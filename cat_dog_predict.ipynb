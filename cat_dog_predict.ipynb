{
  "nbformat": 4,
  "nbformat_minor": 0,
  "metadata": {
    "colab": {
      "provenance": [],
      "gpuType": "T4",
      "mount_file_id": "1IpJL4P_os7ZBva2yshU5AlTIrwY0u8Uf",
      "authorship_tag": "ABX9TyMqt1l5xWlfFjENlwgpKDQU",
      "include_colab_link": true
    },
    "kernelspec": {
      "name": "python3",
      "display_name": "Python 3"
    },
    "language_info": {
      "name": "python"
    },
    "accelerator": "GPU"
  },
  "cells": [
    {
      "cell_type": "markdown",
      "metadata": {
        "id": "view-in-github",
        "colab_type": "text"
      },
      "source": [
        "<a href=\"https://colab.research.google.com/github/Alen-121/Alen-121/blob/main/cat_dog_predict.ipynb\" target=\"_parent\"><img src=\"https://colab.research.google.com/assets/colab-badge.svg\" alt=\"Open In Colab\"/></a>"
      ]
    },
    {
      "cell_type": "code",
      "execution_count": null,
      "metadata": {
        "id": "R3a3esy5KKDb"
      },
      "outputs": [],
      "source": [
        "from tensorflow.keras.preprocessing import image\n"
      ]
    },
    {
      "cell_type": "code",
      "source": [
        "from google.colab import drive\n",
        "drive.mount('/content/drive')"
      ],
      "metadata": {
        "colab": {
          "base_uri": "https://localhost:8080/"
        },
        "id": "8tZs_ktALzl-",
        "outputId": "8f3294a7-aa7d-44d6-a948-28ea8eeb9d8f"
      },
      "execution_count": null,
      "outputs": [
        {
          "output_type": "stream",
          "name": "stdout",
          "text": [
            "Drive already mounted at /content/drive; to attempt to forcibly remount, call drive.mount(\"/content/drive\", force_remount=True).\n"
          ]
        }
      ]
    },
    {
      "cell_type": "code",
      "source": [
        "!cp /content/drive/MyDrive/Sharer.pw/prediction/cat_dog_classification.h5./"
      ],
      "metadata": {
        "colab": {
          "base_uri": "https://localhost:8080/"
        },
        "id": "E15FyuvvLMEF",
        "outputId": "5a8f074e-9278-4ea5-a9aa-b7ad7be05d51"
      },
      "execution_count": null,
      "outputs": [
        {
          "output_type": "stream",
          "name": "stdout",
          "text": [
            "cp: missing destination file operand after '/content/drive/MyDrive/Sharer.pw/prediction/cat_dog_classification.h5./'\n",
            "Try 'cp --help' for more information.\n"
          ]
        }
      ]
    },
    {
      "cell_type": "code",
      "source": [],
      "metadata": {
        "id": "9l5lV96JMKKN"
      },
      "execution_count": null,
      "outputs": []
    },
    {
      "cell_type": "code",
      "source": [
        "import tensorflow as tf\n",
        "import numpy as np\n",
        "\n",
        "#load model\n",
        "model = tf.keras.models.load_model('/content/drive/MyDrive/Sharer.pw/prediction/cat_dog_classification.h5')\n",
        "img=  image.load_img('/images cat.jfif',target_size=(150,150))\n",
        "\n",
        "#preprocessing thr images\n",
        "\n",
        "#1convert to array\n",
        "img = image.img_to_array(img)\n",
        "\n",
        "#2expanding dimensions to math with the model\n",
        "img = np.expand_dims(img,axis=0)\n",
        "#3 normalise\n",
        "img = img/255.0\n",
        "prediction = model.predict(img)\n",
        "if prediction>0.5:\n",
        "  print('Dog')\n",
        "else:\n",
        "  print('Cat')\n",
        "# print(img)\n"
      ],
      "metadata": {
        "colab": {
          "base_uri": "https://localhost:8080/"
        },
        "id": "_mDSREJcLQAx",
        "outputId": "de1aaca2-fa38-47dd-f0f3-71122379c941"
      },
      "execution_count": null,
      "outputs": [
        {
          "output_type": "stream",
          "name": "stdout",
          "text": [
            "1/1 [==============================] - 0s 81ms/step\n",
            "Cat\n"
          ]
        }
      ]
    }
  ]
}