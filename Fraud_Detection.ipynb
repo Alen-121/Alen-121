{
  "cells": [
    {
      "cell_type": "markdown",
      "metadata": {
        "id": "view-in-github",
        "colab_type": "text"
      },
      "source": [
        "<a href=\"https://colab.research.google.com/github/Alen-121/Alen-121/blob/main/Fraud_Detection.ipynb\" target=\"_parent\"><img src=\"https://colab.research.google.com/assets/colab-badge.svg\" alt=\"Open In Colab\"/></a>"
      ]
    },
    {
      "cell_type": "code",
      "execution_count": 1,
      "metadata": {
        "id": "md2DS40B3vaU"
      },
      "outputs": [],
      "source": [
        "import pandas as pd # importing necessary libraries\n",
        "import numpy as np\n",
        "import matplotlib.pyplot as plt\n",
        "import seaborn as sns\n",
        "import statsmodels.api as sm\n",
        "from sklearn.model_selection import train_test_split\n",
        "from sklearn.preprocessing import StandardScaler\n",
        "from sklearn.ensemble import RandomForestClassifier\n",
        "from imblearn.combine import SMOTETomek\n",
        "from imblearn.under_sampling import NearMiss\n",
        "from sklearn.preprocessing import LabelEncoder\n",
        "from sklearn.metrics import accuracy_score,confusion_matrix,classification_report"
      ]
    },
    {
      "cell_type": "code",
      "execution_count": 2,
      "metadata": {
        "id": "VK6BbbDQ4FIv"
      },
      "outputs": [],
      "source": [
        "fraud_data = pd.read_csv('/content/Fraud.csv')"
      ]
    },
    {
      "cell_type": "code",
      "execution_count": 3,
      "metadata": {
        "id": "-OIW1MrF4O5X",
        "colab": {
          "base_uri": "https://localhost:8080/",
          "height": 206
        },
        "outputId": "aa57012f-ca9d-47c8-da87-bbc56f2abef9"
      },
      "outputs": [
        {
          "output_type": "execute_result",
          "data": {
            "text/plain": [
              "   step      type    amount     nameOrig  oldbalanceOrg  newbalanceOrig  \\\n",
              "0     1   PAYMENT   9839.64  C1231006815       170136.0       160296.36   \n",
              "1     1   PAYMENT   1864.28  C1666544295        21249.0        19384.72   \n",
              "2     1  TRANSFER    181.00  C1305486145          181.0            0.00   \n",
              "3     1  CASH_OUT    181.00   C840083671          181.0            0.00   \n",
              "4     1   PAYMENT  11668.14  C2048537720        41554.0        29885.86   \n",
              "\n",
              "      nameDest  oldbalanceDest  newbalanceDest  isFraud  isFlaggedFraud  \n",
              "0  M1979787155             0.0             0.0      0.0             0.0  \n",
              "1  M2044282225             0.0             0.0      0.0             0.0  \n",
              "2   C553264065             0.0             0.0      1.0             0.0  \n",
              "3    C38997010         21182.0             0.0      1.0             0.0  \n",
              "4  M1230701703             0.0             0.0      0.0             0.0  "
            ],
            "text/html": [
              "\n",
              "  <div id=\"df-e37c554f-5cd1-4249-9d07-132f19f06442\" class=\"colab-df-container\">\n",
              "    <div>\n",
              "<style scoped>\n",
              "    .dataframe tbody tr th:only-of-type {\n",
              "        vertical-align: middle;\n",
              "    }\n",
              "\n",
              "    .dataframe tbody tr th {\n",
              "        vertical-align: top;\n",
              "    }\n",
              "\n",
              "    .dataframe thead th {\n",
              "        text-align: right;\n",
              "    }\n",
              "</style>\n",
              "<table border=\"1\" class=\"dataframe\">\n",
              "  <thead>\n",
              "    <tr style=\"text-align: right;\">\n",
              "      <th></th>\n",
              "      <th>step</th>\n",
              "      <th>type</th>\n",
              "      <th>amount</th>\n",
              "      <th>nameOrig</th>\n",
              "      <th>oldbalanceOrg</th>\n",
              "      <th>newbalanceOrig</th>\n",
              "      <th>nameDest</th>\n",
              "      <th>oldbalanceDest</th>\n",
              "      <th>newbalanceDest</th>\n",
              "      <th>isFraud</th>\n",
              "      <th>isFlaggedFraud</th>\n",
              "    </tr>\n",
              "  </thead>\n",
              "  <tbody>\n",
              "    <tr>\n",
              "      <th>0</th>\n",
              "      <td>1</td>\n",
              "      <td>PAYMENT</td>\n",
              "      <td>9839.64</td>\n",
              "      <td>C1231006815</td>\n",
              "      <td>170136.0</td>\n",
              "      <td>160296.36</td>\n",
              "      <td>M1979787155</td>\n",
              "      <td>0.0</td>\n",
              "      <td>0.0</td>\n",
              "      <td>0.0</td>\n",
              "      <td>0.0</td>\n",
              "    </tr>\n",
              "    <tr>\n",
              "      <th>1</th>\n",
              "      <td>1</td>\n",
              "      <td>PAYMENT</td>\n",
              "      <td>1864.28</td>\n",
              "      <td>C1666544295</td>\n",
              "      <td>21249.0</td>\n",
              "      <td>19384.72</td>\n",
              "      <td>M2044282225</td>\n",
              "      <td>0.0</td>\n",
              "      <td>0.0</td>\n",
              "      <td>0.0</td>\n",
              "      <td>0.0</td>\n",
              "    </tr>\n",
              "    <tr>\n",
              "      <th>2</th>\n",
              "      <td>1</td>\n",
              "      <td>TRANSFER</td>\n",
              "      <td>181.00</td>\n",
              "      <td>C1305486145</td>\n",
              "      <td>181.0</td>\n",
              "      <td>0.00</td>\n",
              "      <td>C553264065</td>\n",
              "      <td>0.0</td>\n",
              "      <td>0.0</td>\n",
              "      <td>1.0</td>\n",
              "      <td>0.0</td>\n",
              "    </tr>\n",
              "    <tr>\n",
              "      <th>3</th>\n",
              "      <td>1</td>\n",
              "      <td>CASH_OUT</td>\n",
              "      <td>181.00</td>\n",
              "      <td>C840083671</td>\n",
              "      <td>181.0</td>\n",
              "      <td>0.00</td>\n",
              "      <td>C38997010</td>\n",
              "      <td>21182.0</td>\n",
              "      <td>0.0</td>\n",
              "      <td>1.0</td>\n",
              "      <td>0.0</td>\n",
              "    </tr>\n",
              "    <tr>\n",
              "      <th>4</th>\n",
              "      <td>1</td>\n",
              "      <td>PAYMENT</td>\n",
              "      <td>11668.14</td>\n",
              "      <td>C2048537720</td>\n",
              "      <td>41554.0</td>\n",
              "      <td>29885.86</td>\n",
              "      <td>M1230701703</td>\n",
              "      <td>0.0</td>\n",
              "      <td>0.0</td>\n",
              "      <td>0.0</td>\n",
              "      <td>0.0</td>\n",
              "    </tr>\n",
              "  </tbody>\n",
              "</table>\n",
              "</div>\n",
              "    <div class=\"colab-df-buttons\">\n",
              "\n",
              "  <div class=\"colab-df-container\">\n",
              "    <button class=\"colab-df-convert\" onclick=\"convertToInteractive('df-e37c554f-5cd1-4249-9d07-132f19f06442')\"\n",
              "            title=\"Convert this dataframe to an interactive table.\"\n",
              "            style=\"display:none;\">\n",
              "\n",
              "  <svg xmlns=\"http://www.w3.org/2000/svg\" height=\"24px\" viewBox=\"0 -960 960 960\">\n",
              "    <path d=\"M120-120v-720h720v720H120Zm60-500h600v-160H180v160Zm220 220h160v-160H400v160Zm0 220h160v-160H400v160ZM180-400h160v-160H180v160Zm440 0h160v-160H620v160ZM180-180h160v-160H180v160Zm440 0h160v-160H620v160Z\"/>\n",
              "  </svg>\n",
              "    </button>\n",
              "\n",
              "  <style>\n",
              "    .colab-df-container {\n",
              "      display:flex;\n",
              "      gap: 12px;\n",
              "    }\n",
              "\n",
              "    .colab-df-convert {\n",
              "      background-color: #E8F0FE;\n",
              "      border: none;\n",
              "      border-radius: 50%;\n",
              "      cursor: pointer;\n",
              "      display: none;\n",
              "      fill: #1967D2;\n",
              "      height: 32px;\n",
              "      padding: 0 0 0 0;\n",
              "      width: 32px;\n",
              "    }\n",
              "\n",
              "    .colab-df-convert:hover {\n",
              "      background-color: #E2EBFA;\n",
              "      box-shadow: 0px 1px 2px rgba(60, 64, 67, 0.3), 0px 1px 3px 1px rgba(60, 64, 67, 0.15);\n",
              "      fill: #174EA6;\n",
              "    }\n",
              "\n",
              "    .colab-df-buttons div {\n",
              "      margin-bottom: 4px;\n",
              "    }\n",
              "\n",
              "    [theme=dark] .colab-df-convert {\n",
              "      background-color: #3B4455;\n",
              "      fill: #D2E3FC;\n",
              "    }\n",
              "\n",
              "    [theme=dark] .colab-df-convert:hover {\n",
              "      background-color: #434B5C;\n",
              "      box-shadow: 0px 1px 3px 1px rgba(0, 0, 0, 0.15);\n",
              "      filter: drop-shadow(0px 1px 2px rgba(0, 0, 0, 0.3));\n",
              "      fill: #FFFFFF;\n",
              "    }\n",
              "  </style>\n",
              "\n",
              "    <script>\n",
              "      const buttonEl =\n",
              "        document.querySelector('#df-e37c554f-5cd1-4249-9d07-132f19f06442 button.colab-df-convert');\n",
              "      buttonEl.style.display =\n",
              "        google.colab.kernel.accessAllowed ? 'block' : 'none';\n",
              "\n",
              "      async function convertToInteractive(key) {\n",
              "        const element = document.querySelector('#df-e37c554f-5cd1-4249-9d07-132f19f06442');\n",
              "        const dataTable =\n",
              "          await google.colab.kernel.invokeFunction('convertToInteractive',\n",
              "                                                    [key], {});\n",
              "        if (!dataTable) return;\n",
              "\n",
              "        const docLinkHtml = 'Like what you see? Visit the ' +\n",
              "          '<a target=\"_blank\" href=https://colab.research.google.com/notebooks/data_table.ipynb>data table notebook</a>'\n",
              "          + ' to learn more about interactive tables.';\n",
              "        element.innerHTML = '';\n",
              "        dataTable['output_type'] = 'display_data';\n",
              "        await google.colab.output.renderOutput(dataTable, element);\n",
              "        const docLink = document.createElement('div');\n",
              "        docLink.innerHTML = docLinkHtml;\n",
              "        element.appendChild(docLink);\n",
              "      }\n",
              "    </script>\n",
              "  </div>\n",
              "\n",
              "\n",
              "<div id=\"df-7e873f1c-bd57-4ce6-906d-63af461a106d\">\n",
              "  <button class=\"colab-df-quickchart\" onclick=\"quickchart('df-7e873f1c-bd57-4ce6-906d-63af461a106d')\"\n",
              "            title=\"Suggest charts\"\n",
              "            style=\"display:none;\">\n",
              "\n",
              "<svg xmlns=\"http://www.w3.org/2000/svg\" height=\"24px\"viewBox=\"0 0 24 24\"\n",
              "     width=\"24px\">\n",
              "    <g>\n",
              "        <path d=\"M19 3H5c-1.1 0-2 .9-2 2v14c0 1.1.9 2 2 2h14c1.1 0 2-.9 2-2V5c0-1.1-.9-2-2-2zM9 17H7v-7h2v7zm4 0h-2V7h2v10zm4 0h-2v-4h2v4z\"/>\n",
              "    </g>\n",
              "</svg>\n",
              "  </button>\n",
              "\n",
              "<style>\n",
              "  .colab-df-quickchart {\n",
              "      --bg-color: #E8F0FE;\n",
              "      --fill-color: #1967D2;\n",
              "      --hover-bg-color: #E2EBFA;\n",
              "      --hover-fill-color: #174EA6;\n",
              "      --disabled-fill-color: #AAA;\n",
              "      --disabled-bg-color: #DDD;\n",
              "  }\n",
              "\n",
              "  [theme=dark] .colab-df-quickchart {\n",
              "      --bg-color: #3B4455;\n",
              "      --fill-color: #D2E3FC;\n",
              "      --hover-bg-color: #434B5C;\n",
              "      --hover-fill-color: #FFFFFF;\n",
              "      --disabled-bg-color: #3B4455;\n",
              "      --disabled-fill-color: #666;\n",
              "  }\n",
              "\n",
              "  .colab-df-quickchart {\n",
              "    background-color: var(--bg-color);\n",
              "    border: none;\n",
              "    border-radius: 50%;\n",
              "    cursor: pointer;\n",
              "    display: none;\n",
              "    fill: var(--fill-color);\n",
              "    height: 32px;\n",
              "    padding: 0;\n",
              "    width: 32px;\n",
              "  }\n",
              "\n",
              "  .colab-df-quickchart:hover {\n",
              "    background-color: var(--hover-bg-color);\n",
              "    box-shadow: 0 1px 2px rgba(60, 64, 67, 0.3), 0 1px 3px 1px rgba(60, 64, 67, 0.15);\n",
              "    fill: var(--button-hover-fill-color);\n",
              "  }\n",
              "\n",
              "  .colab-df-quickchart-complete:disabled,\n",
              "  .colab-df-quickchart-complete:disabled:hover {\n",
              "    background-color: var(--disabled-bg-color);\n",
              "    fill: var(--disabled-fill-color);\n",
              "    box-shadow: none;\n",
              "  }\n",
              "\n",
              "  .colab-df-spinner {\n",
              "    border: 2px solid var(--fill-color);\n",
              "    border-color: transparent;\n",
              "    border-bottom-color: var(--fill-color);\n",
              "    animation:\n",
              "      spin 1s steps(1) infinite;\n",
              "  }\n",
              "\n",
              "  @keyframes spin {\n",
              "    0% {\n",
              "      border-color: transparent;\n",
              "      border-bottom-color: var(--fill-color);\n",
              "      border-left-color: var(--fill-color);\n",
              "    }\n",
              "    20% {\n",
              "      border-color: transparent;\n",
              "      border-left-color: var(--fill-color);\n",
              "      border-top-color: var(--fill-color);\n",
              "    }\n",
              "    30% {\n",
              "      border-color: transparent;\n",
              "      border-left-color: var(--fill-color);\n",
              "      border-top-color: var(--fill-color);\n",
              "      border-right-color: var(--fill-color);\n",
              "    }\n",
              "    40% {\n",
              "      border-color: transparent;\n",
              "      border-right-color: var(--fill-color);\n",
              "      border-top-color: var(--fill-color);\n",
              "    }\n",
              "    60% {\n",
              "      border-color: transparent;\n",
              "      border-right-color: var(--fill-color);\n",
              "    }\n",
              "    80% {\n",
              "      border-color: transparent;\n",
              "      border-right-color: var(--fill-color);\n",
              "      border-bottom-color: var(--fill-color);\n",
              "    }\n",
              "    90% {\n",
              "      border-color: transparent;\n",
              "      border-bottom-color: var(--fill-color);\n",
              "    }\n",
              "  }\n",
              "</style>\n",
              "\n",
              "  <script>\n",
              "    async function quickchart(key) {\n",
              "      const quickchartButtonEl =\n",
              "        document.querySelector('#' + key + ' button');\n",
              "      quickchartButtonEl.disabled = true;  // To prevent multiple clicks.\n",
              "      quickchartButtonEl.classList.add('colab-df-spinner');\n",
              "      try {\n",
              "        const charts = await google.colab.kernel.invokeFunction(\n",
              "            'suggestCharts', [key], {});\n",
              "      } catch (error) {\n",
              "        console.error('Error during call to suggestCharts:', error);\n",
              "      }\n",
              "      quickchartButtonEl.classList.remove('colab-df-spinner');\n",
              "      quickchartButtonEl.classList.add('colab-df-quickchart-complete');\n",
              "    }\n",
              "    (() => {\n",
              "      let quickchartButtonEl =\n",
              "        document.querySelector('#df-7e873f1c-bd57-4ce6-906d-63af461a106d button');\n",
              "      quickchartButtonEl.style.display =\n",
              "        google.colab.kernel.accessAllowed ? 'block' : 'none';\n",
              "    })();\n",
              "  </script>\n",
              "</div>\n",
              "\n",
              "    </div>\n",
              "  </div>\n"
            ],
            "application/vnd.google.colaboratory.intrinsic+json": {
              "type": "dataframe",
              "variable_name": "fraud_data",
              "summary": "{\n  \"name\": \"fraud_data\",\n  \"rows\": 42271,\n  \"fields\": [\n    {\n      \"column\": \"step\",\n      \"properties\": {\n        \"dtype\": \"number\",\n        \"std\": 2,\n        \"min\": 1,\n        \"max\": 9,\n        \"num_unique_values\": 9,\n        \"samples\": [\n          8,\n          2,\n          6\n        ],\n        \"semantic_type\": \"\",\n        \"description\": \"\"\n      }\n    },\n    {\n      \"column\": \"type\",\n      \"properties\": {\n        \"dtype\": \"category\",\n        \"num_unique_values\": 5,\n        \"samples\": [\n          \"TRANSFER\",\n          \"CASH_IN\",\n          \"CASH_OUT\"\n        ],\n        \"semantic_type\": \"\",\n        \"description\": \"\"\n      }\n    },\n    {\n      \"column\": \"amount\",\n      \"properties\": {\n        \"dtype\": \"number\",\n        \"std\": 314500.4505244033,\n        \"min\": 1.77,\n        \"max\": 10000000.0,\n        \"num_unique_values\": 42090,\n        \"samples\": [\n          64965.19,\n          2527.79,\n          135665.1\n        ],\n        \"semantic_type\": \"\",\n        \"description\": \"\"\n      }\n    },\n    {\n      \"column\": \"nameOrig\",\n      \"properties\": {\n        \"dtype\": \"string\",\n        \"num_unique_values\": 42271,\n        \"samples\": [\n          \"C86338905\",\n          \"C1614588868\",\n          \"C687956652\"\n        ],\n        \"semantic_type\": \"\",\n        \"description\": \"\"\n      }\n    },\n    {\n      \"column\": \"oldbalanceOrg\",\n      \"properties\": {\n        \"dtype\": \"number\",\n        \"std\": 2284003.2264758195,\n        \"min\": 0.0,\n        \"max\": 28547237.16,\n        \"num_unique_values\": 26583,\n        \"samples\": [\n          6967602.17,\n          280350.31,\n          26382.75\n        ],\n        \"semantic_type\": \"\",\n        \"description\": \"\"\n      }\n    },\n    {\n      \"column\": \"newbalanceOrig\",\n      \"properties\": {\n        \"dtype\": \"number\",\n        \"std\": 2321940.955924805,\n        \"min\": 0.0,\n        \"max\": 28617396.21,\n        \"num_unique_values\": 21221,\n        \"samples\": [\n          5220.68,\n          5142.22,\n          218042.63\n        ],\n        \"semantic_type\": \"\",\n        \"description\": \"\"\n      }\n    },\n    {\n      \"column\": \"nameDest\",\n      \"properties\": {\n        \"dtype\": \"string\",\n        \"num_unique_values\": 24626,\n        \"samples\": [\n          \"M490998082\",\n          \"M78924391\",\n          \"C556812393\"\n        ],\n        \"semantic_type\": \"\",\n        \"description\": \"\"\n      }\n    },\n    {\n      \"column\": \"oldbalanceDest\",\n      \"properties\": {\n        \"dtype\": \"number\",\n        \"std\": 2466742.629594602,\n        \"min\": 0.0,\n        \"max\": 29584542.04,\n        \"num_unique_values\": 20758,\n        \"samples\": [\n          866076.07,\n          289850.78,\n          833136.61\n        ],\n        \"semantic_type\": \"\",\n        \"description\": \"\"\n      }\n    },\n    {\n      \"column\": \"newbalanceDest\",\n      \"properties\": {\n        \"dtype\": \"number\",\n        \"std\": 2960507.7562383977,\n        \"min\": 0.0,\n        \"max\": 31306920.44,\n        \"num_unique_values\": 6940,\n        \"samples\": [\n          305722.91,\n          381540.9,\n          949172.96\n        ],\n        \"semantic_type\": \"\",\n        \"description\": \"\"\n      }\n    },\n    {\n      \"column\": \"isFraud\",\n      \"properties\": {\n        \"dtype\": \"number\",\n        \"std\": 0.047105271412576144,\n        \"min\": 0.0,\n        \"max\": 1.0,\n        \"num_unique_values\": 2,\n        \"samples\": [\n          1.0,\n          0.0\n        ],\n        \"semantic_type\": \"\",\n        \"description\": \"\"\n      }\n    },\n    {\n      \"column\": \"isFlaggedFraud\",\n      \"properties\": {\n        \"dtype\": \"number\",\n        \"std\": 0.0,\n        \"min\": 0.0,\n        \"max\": 0.0,\n        \"num_unique_values\": 1,\n        \"samples\": [\n          0.0\n        ],\n        \"semantic_type\": \"\",\n        \"description\": \"\"\n      }\n    }\n  ]\n}"
            }
          },
          "metadata": {},
          "execution_count": 3
        }
      ],
      "source": [
        "''' First checking the data'''\n",
        "fraud_data.head()"
      ]
    },
    {
      "cell_type": "code",
      "execution_count": 4,
      "metadata": {
        "id": "aFh66rId4UN7",
        "colab": {
          "base_uri": "https://localhost:8080/",
          "height": 206
        },
        "outputId": "4e934889-03fb-4cb9-e8d3-c28b1105d57f"
      },
      "outputs": [
        {
          "output_type": "execute_result",
          "data": {
            "text/plain": [
              "       step      type     amount     nameOrig  oldbalanceOrg  newbalanceOrig  \\\n",
              "42266     9  CASH_OUT  195364.06  C1096102092            0.0             0.0   \n",
              "42267     9  CASH_OUT  546075.62  C1791035294            0.0             0.0   \n",
              "42268     9  CASH_OUT  111003.87  C1145755913            0.0             0.0   \n",
              "42269     9  CASH_OUT  101025.44   C292739335            0.0             0.0   \n",
              "42270     9  CASH_OUT  271441.28  C2034845877            0.0             0.0   \n",
              "\n",
              "          nameDest  oldbalanceDest  newbalanceDest  isFraud  isFlaggedFraud  \n",
              "42266  C2021579766       506957.59      1343781.67      0.0             0.0  \n",
              "42267  C1039162432      5075471.31      5621546.93      0.0             0.0  \n",
              "42268   C743528393      2533159.94      2644163.81      0.0             0.0  \n",
              "42269   C299715257       156646.32       491301.04      0.0             0.0  \n",
              "42270       C71127             NaN             NaN      NaN             NaN  "
            ],
            "text/html": [
              "\n",
              "  <div id=\"df-d51e4d5c-0d55-4d9a-a4c7-809ca437fd56\" class=\"colab-df-container\">\n",
              "    <div>\n",
              "<style scoped>\n",
              "    .dataframe tbody tr th:only-of-type {\n",
              "        vertical-align: middle;\n",
              "    }\n",
              "\n",
              "    .dataframe tbody tr th {\n",
              "        vertical-align: top;\n",
              "    }\n",
              "\n",
              "    .dataframe thead th {\n",
              "        text-align: right;\n",
              "    }\n",
              "</style>\n",
              "<table border=\"1\" class=\"dataframe\">\n",
              "  <thead>\n",
              "    <tr style=\"text-align: right;\">\n",
              "      <th></th>\n",
              "      <th>step</th>\n",
              "      <th>type</th>\n",
              "      <th>amount</th>\n",
              "      <th>nameOrig</th>\n",
              "      <th>oldbalanceOrg</th>\n",
              "      <th>newbalanceOrig</th>\n",
              "      <th>nameDest</th>\n",
              "      <th>oldbalanceDest</th>\n",
              "      <th>newbalanceDest</th>\n",
              "      <th>isFraud</th>\n",
              "      <th>isFlaggedFraud</th>\n",
              "    </tr>\n",
              "  </thead>\n",
              "  <tbody>\n",
              "    <tr>\n",
              "      <th>42266</th>\n",
              "      <td>9</td>\n",
              "      <td>CASH_OUT</td>\n",
              "      <td>195364.06</td>\n",
              "      <td>C1096102092</td>\n",
              "      <td>0.0</td>\n",
              "      <td>0.0</td>\n",
              "      <td>C2021579766</td>\n",
              "      <td>506957.59</td>\n",
              "      <td>1343781.67</td>\n",
              "      <td>0.0</td>\n",
              "      <td>0.0</td>\n",
              "    </tr>\n",
              "    <tr>\n",
              "      <th>42267</th>\n",
              "      <td>9</td>\n",
              "      <td>CASH_OUT</td>\n",
              "      <td>546075.62</td>\n",
              "      <td>C1791035294</td>\n",
              "      <td>0.0</td>\n",
              "      <td>0.0</td>\n",
              "      <td>C1039162432</td>\n",
              "      <td>5075471.31</td>\n",
              "      <td>5621546.93</td>\n",
              "      <td>0.0</td>\n",
              "      <td>0.0</td>\n",
              "    </tr>\n",
              "    <tr>\n",
              "      <th>42268</th>\n",
              "      <td>9</td>\n",
              "      <td>CASH_OUT</td>\n",
              "      <td>111003.87</td>\n",
              "      <td>C1145755913</td>\n",
              "      <td>0.0</td>\n",
              "      <td>0.0</td>\n",
              "      <td>C743528393</td>\n",
              "      <td>2533159.94</td>\n",
              "      <td>2644163.81</td>\n",
              "      <td>0.0</td>\n",
              "      <td>0.0</td>\n",
              "    </tr>\n",
              "    <tr>\n",
              "      <th>42269</th>\n",
              "      <td>9</td>\n",
              "      <td>CASH_OUT</td>\n",
              "      <td>101025.44</td>\n",
              "      <td>C292739335</td>\n",
              "      <td>0.0</td>\n",
              "      <td>0.0</td>\n",
              "      <td>C299715257</td>\n",
              "      <td>156646.32</td>\n",
              "      <td>491301.04</td>\n",
              "      <td>0.0</td>\n",
              "      <td>0.0</td>\n",
              "    </tr>\n",
              "    <tr>\n",
              "      <th>42270</th>\n",
              "      <td>9</td>\n",
              "      <td>CASH_OUT</td>\n",
              "      <td>271441.28</td>\n",
              "      <td>C2034845877</td>\n",
              "      <td>0.0</td>\n",
              "      <td>0.0</td>\n",
              "      <td>C71127</td>\n",
              "      <td>NaN</td>\n",
              "      <td>NaN</td>\n",
              "      <td>NaN</td>\n",
              "      <td>NaN</td>\n",
              "    </tr>\n",
              "  </tbody>\n",
              "</table>\n",
              "</div>\n",
              "    <div class=\"colab-df-buttons\">\n",
              "\n",
              "  <div class=\"colab-df-container\">\n",
              "    <button class=\"colab-df-convert\" onclick=\"convertToInteractive('df-d51e4d5c-0d55-4d9a-a4c7-809ca437fd56')\"\n",
              "            title=\"Convert this dataframe to an interactive table.\"\n",
              "            style=\"display:none;\">\n",
              "\n",
              "  <svg xmlns=\"http://www.w3.org/2000/svg\" height=\"24px\" viewBox=\"0 -960 960 960\">\n",
              "    <path d=\"M120-120v-720h720v720H120Zm60-500h600v-160H180v160Zm220 220h160v-160H400v160Zm0 220h160v-160H400v160ZM180-400h160v-160H180v160Zm440 0h160v-160H620v160ZM180-180h160v-160H180v160Zm440 0h160v-160H620v160Z\"/>\n",
              "  </svg>\n",
              "    </button>\n",
              "\n",
              "  <style>\n",
              "    .colab-df-container {\n",
              "      display:flex;\n",
              "      gap: 12px;\n",
              "    }\n",
              "\n",
              "    .colab-df-convert {\n",
              "      background-color: #E8F0FE;\n",
              "      border: none;\n",
              "      border-radius: 50%;\n",
              "      cursor: pointer;\n",
              "      display: none;\n",
              "      fill: #1967D2;\n",
              "      height: 32px;\n",
              "      padding: 0 0 0 0;\n",
              "      width: 32px;\n",
              "    }\n",
              "\n",
              "    .colab-df-convert:hover {\n",
              "      background-color: #E2EBFA;\n",
              "      box-shadow: 0px 1px 2px rgba(60, 64, 67, 0.3), 0px 1px 3px 1px rgba(60, 64, 67, 0.15);\n",
              "      fill: #174EA6;\n",
              "    }\n",
              "\n",
              "    .colab-df-buttons div {\n",
              "      margin-bottom: 4px;\n",
              "    }\n",
              "\n",
              "    [theme=dark] .colab-df-convert {\n",
              "      background-color: #3B4455;\n",
              "      fill: #D2E3FC;\n",
              "    }\n",
              "\n",
              "    [theme=dark] .colab-df-convert:hover {\n",
              "      background-color: #434B5C;\n",
              "      box-shadow: 0px 1px 3px 1px rgba(0, 0, 0, 0.15);\n",
              "      filter: drop-shadow(0px 1px 2px rgba(0, 0, 0, 0.3));\n",
              "      fill: #FFFFFF;\n",
              "    }\n",
              "  </style>\n",
              "\n",
              "    <script>\n",
              "      const buttonEl =\n",
              "        document.querySelector('#df-d51e4d5c-0d55-4d9a-a4c7-809ca437fd56 button.colab-df-convert');\n",
              "      buttonEl.style.display =\n",
              "        google.colab.kernel.accessAllowed ? 'block' : 'none';\n",
              "\n",
              "      async function convertToInteractive(key) {\n",
              "        const element = document.querySelector('#df-d51e4d5c-0d55-4d9a-a4c7-809ca437fd56');\n",
              "        const dataTable =\n",
              "          await google.colab.kernel.invokeFunction('convertToInteractive',\n",
              "                                                    [key], {});\n",
              "        if (!dataTable) return;\n",
              "\n",
              "        const docLinkHtml = 'Like what you see? Visit the ' +\n",
              "          '<a target=\"_blank\" href=https://colab.research.google.com/notebooks/data_table.ipynb>data table notebook</a>'\n",
              "          + ' to learn more about interactive tables.';\n",
              "        element.innerHTML = '';\n",
              "        dataTable['output_type'] = 'display_data';\n",
              "        await google.colab.output.renderOutput(dataTable, element);\n",
              "        const docLink = document.createElement('div');\n",
              "        docLink.innerHTML = docLinkHtml;\n",
              "        element.appendChild(docLink);\n",
              "      }\n",
              "    </script>\n",
              "  </div>\n",
              "\n",
              "\n",
              "<div id=\"df-29ed7b96-01bd-4bb2-973a-ffddb3ff3194\">\n",
              "  <button class=\"colab-df-quickchart\" onclick=\"quickchart('df-29ed7b96-01bd-4bb2-973a-ffddb3ff3194')\"\n",
              "            title=\"Suggest charts\"\n",
              "            style=\"display:none;\">\n",
              "\n",
              "<svg xmlns=\"http://www.w3.org/2000/svg\" height=\"24px\"viewBox=\"0 0 24 24\"\n",
              "     width=\"24px\">\n",
              "    <g>\n",
              "        <path d=\"M19 3H5c-1.1 0-2 .9-2 2v14c0 1.1.9 2 2 2h14c1.1 0 2-.9 2-2V5c0-1.1-.9-2-2-2zM9 17H7v-7h2v7zm4 0h-2V7h2v10zm4 0h-2v-4h2v4z\"/>\n",
              "    </g>\n",
              "</svg>\n",
              "  </button>\n",
              "\n",
              "<style>\n",
              "  .colab-df-quickchart {\n",
              "      --bg-color: #E8F0FE;\n",
              "      --fill-color: #1967D2;\n",
              "      --hover-bg-color: #E2EBFA;\n",
              "      --hover-fill-color: #174EA6;\n",
              "      --disabled-fill-color: #AAA;\n",
              "      --disabled-bg-color: #DDD;\n",
              "  }\n",
              "\n",
              "  [theme=dark] .colab-df-quickchart {\n",
              "      --bg-color: #3B4455;\n",
              "      --fill-color: #D2E3FC;\n",
              "      --hover-bg-color: #434B5C;\n",
              "      --hover-fill-color: #FFFFFF;\n",
              "      --disabled-bg-color: #3B4455;\n",
              "      --disabled-fill-color: #666;\n",
              "  }\n",
              "\n",
              "  .colab-df-quickchart {\n",
              "    background-color: var(--bg-color);\n",
              "    border: none;\n",
              "    border-radius: 50%;\n",
              "    cursor: pointer;\n",
              "    display: none;\n",
              "    fill: var(--fill-color);\n",
              "    height: 32px;\n",
              "    padding: 0;\n",
              "    width: 32px;\n",
              "  }\n",
              "\n",
              "  .colab-df-quickchart:hover {\n",
              "    background-color: var(--hover-bg-color);\n",
              "    box-shadow: 0 1px 2px rgba(60, 64, 67, 0.3), 0 1px 3px 1px rgba(60, 64, 67, 0.15);\n",
              "    fill: var(--button-hover-fill-color);\n",
              "  }\n",
              "\n",
              "  .colab-df-quickchart-complete:disabled,\n",
              "  .colab-df-quickchart-complete:disabled:hover {\n",
              "    background-color: var(--disabled-bg-color);\n",
              "    fill: var(--disabled-fill-color);\n",
              "    box-shadow: none;\n",
              "  }\n",
              "\n",
              "  .colab-df-spinner {\n",
              "    border: 2px solid var(--fill-color);\n",
              "    border-color: transparent;\n",
              "    border-bottom-color: var(--fill-color);\n",
              "    animation:\n",
              "      spin 1s steps(1) infinite;\n",
              "  }\n",
              "\n",
              "  @keyframes spin {\n",
              "    0% {\n",
              "      border-color: transparent;\n",
              "      border-bottom-color: var(--fill-color);\n",
              "      border-left-color: var(--fill-color);\n",
              "    }\n",
              "    20% {\n",
              "      border-color: transparent;\n",
              "      border-left-color: var(--fill-color);\n",
              "      border-top-color: var(--fill-color);\n",
              "    }\n",
              "    30% {\n",
              "      border-color: transparent;\n",
              "      border-left-color: var(--fill-color);\n",
              "      border-top-color: var(--fill-color);\n",
              "      border-right-color: var(--fill-color);\n",
              "    }\n",
              "    40% {\n",
              "      border-color: transparent;\n",
              "      border-right-color: var(--fill-color);\n",
              "      border-top-color: var(--fill-color);\n",
              "    }\n",
              "    60% {\n",
              "      border-color: transparent;\n",
              "      border-right-color: var(--fill-color);\n",
              "    }\n",
              "    80% {\n",
              "      border-color: transparent;\n",
              "      border-right-color: var(--fill-color);\n",
              "      border-bottom-color: var(--fill-color);\n",
              "    }\n",
              "    90% {\n",
              "      border-color: transparent;\n",
              "      border-bottom-color: var(--fill-color);\n",
              "    }\n",
              "  }\n",
              "</style>\n",
              "\n",
              "  <script>\n",
              "    async function quickchart(key) {\n",
              "      const quickchartButtonEl =\n",
              "        document.querySelector('#' + key + ' button');\n",
              "      quickchartButtonEl.disabled = true;  // To prevent multiple clicks.\n",
              "      quickchartButtonEl.classList.add('colab-df-spinner');\n",
              "      try {\n",
              "        const charts = await google.colab.kernel.invokeFunction(\n",
              "            'suggestCharts', [key], {});\n",
              "      } catch (error) {\n",
              "        console.error('Error during call to suggestCharts:', error);\n",
              "      }\n",
              "      quickchartButtonEl.classList.remove('colab-df-spinner');\n",
              "      quickchartButtonEl.classList.add('colab-df-quickchart-complete');\n",
              "    }\n",
              "    (() => {\n",
              "      let quickchartButtonEl =\n",
              "        document.querySelector('#df-29ed7b96-01bd-4bb2-973a-ffddb3ff3194 button');\n",
              "      quickchartButtonEl.style.display =\n",
              "        google.colab.kernel.accessAllowed ? 'block' : 'none';\n",
              "    })();\n",
              "  </script>\n",
              "</div>\n",
              "\n",
              "    </div>\n",
              "  </div>\n"
            ],
            "application/vnd.google.colaboratory.intrinsic+json": {
              "type": "dataframe",
              "summary": "{\n  \"name\": \"fraud_data\",\n  \"rows\": 5,\n  \"fields\": [\n    {\n      \"column\": \"step\",\n      \"properties\": {\n        \"dtype\": \"number\",\n        \"std\": 0,\n        \"min\": 9,\n        \"max\": 9,\n        \"num_unique_values\": 1,\n        \"samples\": [\n          9\n        ],\n        \"semantic_type\": \"\",\n        \"description\": \"\"\n      }\n    },\n    {\n      \"column\": \"type\",\n      \"properties\": {\n        \"dtype\": \"category\",\n        \"num_unique_values\": 1,\n        \"samples\": [\n          \"CASH_OUT\"\n        ],\n        \"semantic_type\": \"\",\n        \"description\": \"\"\n      }\n    },\n    {\n      \"column\": \"amount\",\n      \"properties\": {\n        \"dtype\": \"number\",\n        \"std\": 181997.96149818704,\n        \"min\": 101025.44,\n        \"max\": 546075.62,\n        \"num_unique_values\": 5,\n        \"samples\": [\n          546075.62\n        ],\n        \"semantic_type\": \"\",\n        \"description\": \"\"\n      }\n    },\n    {\n      \"column\": \"nameOrig\",\n      \"properties\": {\n        \"dtype\": \"string\",\n        \"num_unique_values\": 5,\n        \"samples\": [\n          \"C1791035294\"\n        ],\n        \"semantic_type\": \"\",\n        \"description\": \"\"\n      }\n    },\n    {\n      \"column\": \"oldbalanceOrg\",\n      \"properties\": {\n        \"dtype\": \"number\",\n        \"std\": 0.0,\n        \"min\": 0.0,\n        \"max\": 0.0,\n        \"num_unique_values\": 1,\n        \"samples\": [\n          0.0\n        ],\n        \"semantic_type\": \"\",\n        \"description\": \"\"\n      }\n    },\n    {\n      \"column\": \"newbalanceOrig\",\n      \"properties\": {\n        \"dtype\": \"number\",\n        \"std\": 0.0,\n        \"min\": 0.0,\n        \"max\": 0.0,\n        \"num_unique_values\": 1,\n        \"samples\": [\n          0.0\n        ],\n        \"semantic_type\": \"\",\n        \"description\": \"\"\n      }\n    },\n    {\n      \"column\": \"nameDest\",\n      \"properties\": {\n        \"dtype\": \"string\",\n        \"num_unique_values\": 5,\n        \"samples\": [\n          \"C1039162432\"\n        ],\n        \"semantic_type\": \"\",\n        \"description\": \"\"\n      }\n    },\n    {\n      \"column\": \"oldbalanceDest\",\n      \"properties\": {\n        \"dtype\": \"number\",\n        \"std\": 2262106.9627154395,\n        \"min\": 156646.32,\n        \"max\": 5075471.31,\n        \"num_unique_values\": 4,\n        \"samples\": [\n          5075471.31\n        ],\n        \"semantic_type\": \"\",\n        \"description\": \"\"\n      }\n    },\n    {\n      \"column\": \"newbalanceDest\",\n      \"properties\": {\n        \"dtype\": \"number\",\n        \"std\": 2246034.3533250247,\n        \"min\": 491301.04,\n        \"max\": 5621546.93,\n        \"num_unique_values\": 4,\n        \"samples\": [\n          5621546.93\n        ],\n        \"semantic_type\": \"\",\n        \"description\": \"\"\n      }\n    },\n    {\n      \"column\": \"isFraud\",\n      \"properties\": {\n        \"dtype\": \"number\",\n        \"std\": 0.0,\n        \"min\": 0.0,\n        \"max\": 0.0,\n        \"num_unique_values\": 1,\n        \"samples\": [\n          0.0\n        ],\n        \"semantic_type\": \"\",\n        \"description\": \"\"\n      }\n    },\n    {\n      \"column\": \"isFlaggedFraud\",\n      \"properties\": {\n        \"dtype\": \"number\",\n        \"std\": 0.0,\n        \"min\": 0.0,\n        \"max\": 0.0,\n        \"num_unique_values\": 1,\n        \"samples\": [\n          0.0\n        ],\n        \"semantic_type\": \"\",\n        \"description\": \"\"\n      }\n    }\n  ]\n}"
            }
          },
          "metadata": {},
          "execution_count": 4
        }
      ],
      "source": [
        "fraud_data.tail()"
      ]
    },
    {
      "cell_type": "code",
      "execution_count": 5,
      "metadata": {
        "id": "YoAM2VSO7ds-"
      },
      "outputs": [],
      "source": [
        "# fraud_data.to_string()"
      ]
    },
    {
      "cell_type": "code",
      "execution_count": 6,
      "metadata": {
        "id": "wp6s-kt74ZXF",
        "colab": {
          "base_uri": "https://localhost:8080/"
        },
        "outputId": "16d0b7f4-6301-4a62-d72a-331ec689db1e"
      },
      "outputs": [
        {
          "output_type": "stream",
          "name": "stdout",
          "text": [
            "<class 'pandas.core.frame.DataFrame'>\n",
            "RangeIndex: 42271 entries, 0 to 42270\n",
            "Data columns (total 11 columns):\n",
            " #   Column          Non-Null Count  Dtype  \n",
            "---  ------          --------------  -----  \n",
            " 0   step            42271 non-null  int64  \n",
            " 1   type            42271 non-null  object \n",
            " 2   amount          42271 non-null  float64\n",
            " 3   nameOrig        42271 non-null  object \n",
            " 4   oldbalanceOrg   42271 non-null  float64\n",
            " 5   newbalanceOrig  42271 non-null  float64\n",
            " 6   nameDest        42271 non-null  object \n",
            " 7   oldbalanceDest  42270 non-null  float64\n",
            " 8   newbalanceDest  42270 non-null  float64\n",
            " 9   isFraud         42270 non-null  float64\n",
            " 10  isFlaggedFraud  42270 non-null  float64\n",
            "dtypes: float64(7), int64(1), object(3)\n",
            "memory usage: 3.5+ MB\n"
          ]
        }
      ],
      "source": [
        "fraud_data.info()#checking the information about the data"
      ]
    },
    {
      "cell_type": "code",
      "execution_count": 7,
      "metadata": {
        "id": "CPmzGLFR4fOZ",
        "colab": {
          "base_uri": "https://localhost:8080/"
        },
        "outputId": "2492871e-e086-45cd-e0f3-35e6df3f99c1"
      },
      "outputs": [
        {
          "output_type": "stream",
          "name": "stdout",
          "text": [
            "               step        amount  oldbalanceOrg  newbalanceOrig  \\\n",
            "count  42271.000000  4.227100e+04   4.227100e+04    4.227100e+04   \n",
            "mean       7.171087  1.490108e+05   7.727734e+05    7.874065e+05   \n",
            "std        2.118037  3.145005e+05   2.284003e+06    2.321941e+06   \n",
            "min        1.000000  1.770000e+00   0.000000e+00    0.000000e+00   \n",
            "25%        7.000000  7.031875e+03   0.000000e+00    0.000000e+00   \n",
            "50%        8.000000  2.751283e+04   1.856733e+04    3.339900e+02   \n",
            "75%        8.000000  1.794321e+05   1.421965e+05    1.500335e+05   \n",
            "max        9.000000  1.000000e+07   2.854724e+07    2.861740e+07   \n",
            "\n",
            "       oldbalanceDest  newbalanceDest       isFraud  isFlaggedFraud  \n",
            "count    4.227000e+04    4.227000e+04  42270.000000         42270.0  \n",
            "mean     8.450982e+05    1.158405e+06      0.002224             0.0  \n",
            "std      2.466743e+06    2.960508e+06      0.047105             0.0  \n",
            "min      0.000000e+00    0.000000e+00      0.000000             0.0  \n",
            "25%      0.000000e+00    0.000000e+00      0.000000             0.0  \n",
            "50%      0.000000e+00    0.000000e+00      0.000000             0.0  \n",
            "75%      4.337969e+05    8.013660e+05      0.000000             0.0  \n",
            "max      2.958454e+07    3.130692e+07      1.000000             0.0  \n"
          ]
        }
      ],
      "source": [
        "print(fraud_data.describe())#checking necessary description"
      ]
    },
    {
      "cell_type": "code",
      "execution_count": 8,
      "metadata": {
        "id": "bdS6ISoe4t8e",
        "colab": {
          "base_uri": "https://localhost:8080/",
          "height": 429
        },
        "outputId": "28b87e7d-f7fd-420c-e6ff-f5c83ec4c163"
      },
      "outputs": [
        {
          "output_type": "execute_result",
          "data": {
            "text/plain": [
              "step              0\n",
              "type              0\n",
              "amount            0\n",
              "nameOrig          0\n",
              "oldbalanceOrg     0\n",
              "newbalanceOrig    0\n",
              "nameDest          0\n",
              "oldbalanceDest    1\n",
              "newbalanceDest    1\n",
              "isFraud           1\n",
              "isFlaggedFraud    1\n",
              "dtype: int64"
            ],
            "text/html": [
              "<div>\n",
              "<style scoped>\n",
              "    .dataframe tbody tr th:only-of-type {\n",
              "        vertical-align: middle;\n",
              "    }\n",
              "\n",
              "    .dataframe tbody tr th {\n",
              "        vertical-align: top;\n",
              "    }\n",
              "\n",
              "    .dataframe thead th {\n",
              "        text-align: right;\n",
              "    }\n",
              "</style>\n",
              "<table border=\"1\" class=\"dataframe\">\n",
              "  <thead>\n",
              "    <tr style=\"text-align: right;\">\n",
              "      <th></th>\n",
              "      <th>0</th>\n",
              "    </tr>\n",
              "  </thead>\n",
              "  <tbody>\n",
              "    <tr>\n",
              "      <th>step</th>\n",
              "      <td>0</td>\n",
              "    </tr>\n",
              "    <tr>\n",
              "      <th>type</th>\n",
              "      <td>0</td>\n",
              "    </tr>\n",
              "    <tr>\n",
              "      <th>amount</th>\n",
              "      <td>0</td>\n",
              "    </tr>\n",
              "    <tr>\n",
              "      <th>nameOrig</th>\n",
              "      <td>0</td>\n",
              "    </tr>\n",
              "    <tr>\n",
              "      <th>oldbalanceOrg</th>\n",
              "      <td>0</td>\n",
              "    </tr>\n",
              "    <tr>\n",
              "      <th>newbalanceOrig</th>\n",
              "      <td>0</td>\n",
              "    </tr>\n",
              "    <tr>\n",
              "      <th>nameDest</th>\n",
              "      <td>0</td>\n",
              "    </tr>\n",
              "    <tr>\n",
              "      <th>oldbalanceDest</th>\n",
              "      <td>1</td>\n",
              "    </tr>\n",
              "    <tr>\n",
              "      <th>newbalanceDest</th>\n",
              "      <td>1</td>\n",
              "    </tr>\n",
              "    <tr>\n",
              "      <th>isFraud</th>\n",
              "      <td>1</td>\n",
              "    </tr>\n",
              "    <tr>\n",
              "      <th>isFlaggedFraud</th>\n",
              "      <td>1</td>\n",
              "    </tr>\n",
              "  </tbody>\n",
              "</table>\n",
              "</div><br><label><b>dtype:</b> int64</label>"
            ]
          },
          "metadata": {},
          "execution_count": 8
        }
      ],
      "source": [
        "fraud_data.isnull().sum() # detect missing values"
      ]
    },
    {
      "cell_type": "code",
      "execution_count": 8,
      "metadata": {
        "id": "jHVVXF005WOY"
      },
      "outputs": [],
      "source": []
    },
    {
      "cell_type": "code",
      "execution_count": 9,
      "metadata": {
        "id": "OnYEfifA5dpK",
        "colab": {
          "base_uri": "https://localhost:8080/"
        },
        "outputId": "92ad3e55-fb22-4b36-8865-47c74b392c6f"
      },
      "outputs": [
        {
          "output_type": "execute_result",
          "data": {
            "text/plain": [
              "0"
            ]
          },
          "metadata": {},
          "execution_count": 9
        }
      ],
      "source": [
        "fraud_data.duplicated().sum() #detect duplicate values"
      ]
    },
    {
      "cell_type": "code",
      "execution_count": 9,
      "metadata": {
        "id": "t4DEG3Kv5kZD"
      },
      "outputs": [],
      "source": []
    },
    {
      "cell_type": "code",
      "execution_count": 10,
      "metadata": {
        "id": "iXfG4RpWr3fT",
        "colab": {
          "base_uri": "https://localhost:8080/",
          "height": 429
        },
        "outputId": "ac3e9504-a6b3-461d-9345-ad2d8ee842dc"
      },
      "outputs": [
        {
          "output_type": "execute_result",
          "data": {
            "text/plain": [
              "step              0\n",
              "type              0\n",
              "amount            0\n",
              "nameOrig          0\n",
              "oldbalanceOrg     0\n",
              "newbalanceOrig    0\n",
              "nameDest          0\n",
              "oldbalanceDest    1\n",
              "newbalanceDest    1\n",
              "isFraud           1\n",
              "isFlaggedFraud    1\n",
              "dtype: int64"
            ],
            "text/html": [
              "<div>\n",
              "<style scoped>\n",
              "    .dataframe tbody tr th:only-of-type {\n",
              "        vertical-align: middle;\n",
              "    }\n",
              "\n",
              "    .dataframe tbody tr th {\n",
              "        vertical-align: top;\n",
              "    }\n",
              "\n",
              "    .dataframe thead th {\n",
              "        text-align: right;\n",
              "    }\n",
              "</style>\n",
              "<table border=\"1\" class=\"dataframe\">\n",
              "  <thead>\n",
              "    <tr style=\"text-align: right;\">\n",
              "      <th></th>\n",
              "      <th>0</th>\n",
              "    </tr>\n",
              "  </thead>\n",
              "  <tbody>\n",
              "    <tr>\n",
              "      <th>step</th>\n",
              "      <td>0</td>\n",
              "    </tr>\n",
              "    <tr>\n",
              "      <th>type</th>\n",
              "      <td>0</td>\n",
              "    </tr>\n",
              "    <tr>\n",
              "      <th>amount</th>\n",
              "      <td>0</td>\n",
              "    </tr>\n",
              "    <tr>\n",
              "      <th>nameOrig</th>\n",
              "      <td>0</td>\n",
              "    </tr>\n",
              "    <tr>\n",
              "      <th>oldbalanceOrg</th>\n",
              "      <td>0</td>\n",
              "    </tr>\n",
              "    <tr>\n",
              "      <th>newbalanceOrig</th>\n",
              "      <td>0</td>\n",
              "    </tr>\n",
              "    <tr>\n",
              "      <th>nameDest</th>\n",
              "      <td>0</td>\n",
              "    </tr>\n",
              "    <tr>\n",
              "      <th>oldbalanceDest</th>\n",
              "      <td>1</td>\n",
              "    </tr>\n",
              "    <tr>\n",
              "      <th>newbalanceDest</th>\n",
              "      <td>1</td>\n",
              "    </tr>\n",
              "    <tr>\n",
              "      <th>isFraud</th>\n",
              "      <td>1</td>\n",
              "    </tr>\n",
              "    <tr>\n",
              "      <th>isFlaggedFraud</th>\n",
              "      <td>1</td>\n",
              "    </tr>\n",
              "  </tbody>\n",
              "</table>\n",
              "</div><br><label><b>dtype:</b> int64</label>"
            ]
          },
          "metadata": {},
          "execution_count": 10
        }
      ],
      "source": [
        "fraud_data.isna().sum() #detect missing values , Nan Values"
      ]
    },
    {
      "cell_type": "code",
      "execution_count": 11,
      "metadata": {
        "id": "Gamkfd9840DR"
      },
      "outputs": [],
      "source": [
        "fraud_data.dropna(inplace=True)#removing Nan , missing values"
      ]
    },
    {
      "cell_type": "code",
      "execution_count": 12,
      "metadata": {
        "id": "0ORosY6K5sZs",
        "colab": {
          "base_uri": "https://localhost:8080/"
        },
        "outputId": "48071c74-8233-4dc1-e1a8-6ca619e81f55"
      },
      "outputs": [
        {
          "output_type": "execute_result",
          "data": {
            "text/plain": [
              "(42270, 11)"
            ]
          },
          "metadata": {},
          "execution_count": 12
        }
      ],
      "source": [
        "fraud_data.shape"
      ]
    },
    {
      "cell_type": "code",
      "execution_count": 13,
      "metadata": {
        "id": "_UtY8dKK2zIE"
      },
      "outputs": [],
      "source": [
        "# s =fraud_data.select_dtypes(include='number').columns"
      ]
    },
    {
      "cell_type": "code",
      "execution_count": 14,
      "metadata": {
        "id": "kwPITCQP53Cf",
        "colab": {
          "base_uri": "https://localhost:8080/",
          "height": 429
        },
        "outputId": "943d9fef-a608-4fc7-cd82-2fda0272da0d"
      },
      "outputs": [
        {
          "output_type": "execute_result",
          "data": {
            "text/plain": [
              "step                int64\n",
              "type               object\n",
              "amount            float64\n",
              "nameOrig           object\n",
              "oldbalanceOrg     float64\n",
              "newbalanceOrig    float64\n",
              "nameDest           object\n",
              "oldbalanceDest    float64\n",
              "newbalanceDest    float64\n",
              "isFraud           float64\n",
              "isFlaggedFraud    float64\n",
              "dtype: object"
            ],
            "text/html": [
              "<div>\n",
              "<style scoped>\n",
              "    .dataframe tbody tr th:only-of-type {\n",
              "        vertical-align: middle;\n",
              "    }\n",
              "\n",
              "    .dataframe tbody tr th {\n",
              "        vertical-align: top;\n",
              "    }\n",
              "\n",
              "    .dataframe thead th {\n",
              "        text-align: right;\n",
              "    }\n",
              "</style>\n",
              "<table border=\"1\" class=\"dataframe\">\n",
              "  <thead>\n",
              "    <tr style=\"text-align: right;\">\n",
              "      <th></th>\n",
              "      <th>0</th>\n",
              "    </tr>\n",
              "  </thead>\n",
              "  <tbody>\n",
              "    <tr>\n",
              "      <th>step</th>\n",
              "      <td>int64</td>\n",
              "    </tr>\n",
              "    <tr>\n",
              "      <th>type</th>\n",
              "      <td>object</td>\n",
              "    </tr>\n",
              "    <tr>\n",
              "      <th>amount</th>\n",
              "      <td>float64</td>\n",
              "    </tr>\n",
              "    <tr>\n",
              "      <th>nameOrig</th>\n",
              "      <td>object</td>\n",
              "    </tr>\n",
              "    <tr>\n",
              "      <th>oldbalanceOrg</th>\n",
              "      <td>float64</td>\n",
              "    </tr>\n",
              "    <tr>\n",
              "      <th>newbalanceOrig</th>\n",
              "      <td>float64</td>\n",
              "    </tr>\n",
              "    <tr>\n",
              "      <th>nameDest</th>\n",
              "      <td>object</td>\n",
              "    </tr>\n",
              "    <tr>\n",
              "      <th>oldbalanceDest</th>\n",
              "      <td>float64</td>\n",
              "    </tr>\n",
              "    <tr>\n",
              "      <th>newbalanceDest</th>\n",
              "      <td>float64</td>\n",
              "    </tr>\n",
              "    <tr>\n",
              "      <th>isFraud</th>\n",
              "      <td>float64</td>\n",
              "    </tr>\n",
              "    <tr>\n",
              "      <th>isFlaggedFraud</th>\n",
              "      <td>float64</td>\n",
              "    </tr>\n",
              "  </tbody>\n",
              "</table>\n",
              "</div><br><label><b>dtype:</b> object</label>"
            ]
          },
          "metadata": {},
          "execution_count": 14
        }
      ],
      "source": [
        "fraud_data.dtypes #checking the data types"
      ]
    },
    {
      "cell_type": "code",
      "execution_count": 15,
      "metadata": {
        "id": "EuyTvRHh5-Ke",
        "colab": {
          "base_uri": "https://localhost:8080/"
        },
        "outputId": "dbf0f6d8-ab51-4ebc-a9eb-128fe702868d"
      },
      "outputs": [
        {
          "output_type": "execute_result",
          "data": {
            "text/plain": [
              "Index(['step', 'type', 'amount', 'nameOrig', 'oldbalanceOrg', 'newbalanceOrig',\n",
              "       'nameDest', 'oldbalanceDest', 'newbalanceDest', 'isFraud',\n",
              "       'isFlaggedFraud'],\n",
              "      dtype='object')"
            ]
          },
          "metadata": {},
          "execution_count": 15
        }
      ],
      "source": [
        "fraud_data.columns\n"
      ]
    },
    {
      "cell_type": "code",
      "execution_count": 16,
      "metadata": {
        "id": "00Hdk-l6y5gL",
        "colab": {
          "base_uri": "https://localhost:8080/"
        },
        "outputId": "3956e174-eac5-4fab-b1ae-f4614f58230f"
      },
      "outputs": [
        {
          "output_type": "stream",
          "name": "stdout",
          "text": [
            "isFraud\n",
            "0.0    42176\n",
            "1.0       94\n",
            "Name: count, dtype: int64\n"
          ]
        }
      ],
      "source": [
        "print(fraud_data['isFraud'].value_counts())"
      ]
    },
    {
      "cell_type": "code",
      "execution_count": 17,
      "metadata": {
        "id": "DhSpDaAtCCTe",
        "colab": {
          "base_uri": "https://localhost:8080/",
          "height": 807
        },
        "outputId": "bc199e22-e344-4df1-c455-f6dc2fd30ce7"
      },
      "outputs": [
        {
          "output_type": "display_data",
          "data": {
            "text/plain": [
              "<Figure size 1400x800 with 5 Axes>"
            ],
            "image/png": "[encoded data removed]"
          },
          "metadata": {}
        }
      ],
      "source": [
        "#box plot for finding  any outliers\n",
        "numeric_columns = ['amount', 'oldbalanceOrg', 'newbalanceOrig','oldbalanceDest', 'newbalanceDest']\n",
        "# Setting up the plot\n",
        "plt.figure(figsize=(14, 8))\n",
        "\n",
        "# Plotting each numeric column as a boxplot\n",
        "for i, column in enumerate(numeric_columns, 1):\n",
        "  plt.subplot(2, 3, i)\n",
        "  sns.boxplot(x=fraud_data[column])\n",
        "  plt.title(f'Boxplot of {column}, \"before\"')\n",
        "\n",
        "# Adjust the layout\n",
        "plt.tight_layout()\n",
        "plt.show()"
      ]
    },
    {
      "cell_type": "code",
      "execution_count": 18,
      "metadata": {
        "id": "wETR8EJpthHN",
        "colab": {
          "base_uri": "https://localhost:8080/",
          "height": 54
        },
        "outputId": "78557bce-356d-485b-f449-7a9990fbf98b"
      },
      "outputs": [
        {
          "output_type": "execute_result",
          "data": {
            "text/plain": [
              "'As we can see from the boxplot the  outliers and multi-collinearity are present in the data. We can either consider it or try to remove it.Here I am going to use Z-score method to remove the outliers.\\nWe will find a upperlimit and a lower limit , and only going to keep the values between these limits and that process is called trimming.'"
            ],
            "application/vnd.google.colaboratory.intrinsic+json": {
              "type": "string"
            }
          },
          "metadata": {},
          "execution_count": 18
        }
      ],
      "source": [
        "'''As we can see from the boxplot the  outliers and multi-collinearity are present in the data. We can either consider it or try to remove it.Here I am going to use Z-score method to remove the outliers.\n",
        "We will find a upperlimit and a lower limit , and only going to keep the values between these limits and that process is called trimming.'''"
      ]
    },
    {
      "cell_type": "code",
      "execution_count": 18,
      "metadata": {
        "id": "M-NPPAM0vLgT"
      },
      "outputs": [],
      "source": []
    },
    {
      "cell_type": "code",
      "execution_count": 19,
      "metadata": {
        "id": "h8Bz0E7MixjM",
        "colab": {
          "base_uri": "https://localhost:8080/"
        },
        "outputId": "4e36c8c3-da58-499a-e3a1-8c6b9986c50f"
      },
      "outputs": [
        {
          "output_type": "stream",
          "name": "stdout",
          "text": [
            "upper limit :  1092518.7165857821\n",
            "lower limit :  -794502.9250896855\n"
          ]
        }
      ],
      "source": [
        "upper_limit_amount = fraud_data['amount'].mean() + 3*fraud_data['amount'].std()\n",
        "lower_limit_amount = fraud_data['amount'].mean() - 3*fraud_data['amount'].std()\n",
        "print('upper limit : ',upper_limit_amount)\n",
        "print('lower limit : ', lower_limit_amount)"
      ]
    },
    {
      "cell_type": "code",
      "execution_count": 19,
      "metadata": {
        "id": "kkBTOkR7vL2m"
      },
      "outputs": [],
      "source": []
    },
    {
      "cell_type": "code",
      "execution_count": 20,
      "metadata": {
        "id": "sI5VoMAGfRqH",
        "colab": {
          "base_uri": "https://localhost:8080/"
        },
        "outputId": "e9509377-a086-4f30-85eb-c4d0f609f50d"
      },
      "outputs": [
        {
          "output_type": "stream",
          "name": "stdout",
          "text": [
            "upper limit :  7624873.140546907\n",
            "lower limit :  -6079289.764998764\n"
          ]
        }
      ],
      "source": [
        "\n",
        "upper_limit_oldbalanceOrg = fraud_data['oldbalanceOrg'].mean() + 3*fraud_data['oldbalanceOrg'].std()\n",
        "lower_limit_oldbalanceOrg = fraud_data['oldbalanceOrg'].mean() - 3*fraud_data['oldbalanceOrg'].std()\n",
        "print('upper limit : ',upper_limit_oldbalanceOrg)\n",
        "print('lower limit : ', lower_limit_oldbalanceOrg)"
      ]
    },
    {
      "cell_type": "code",
      "execution_count": 20,
      "metadata": {
        "id": "fR9Srf-VvMYh"
      },
      "outputs": [],
      "source": []
    },
    {
      "cell_type": "code",
      "execution_count": 21,
      "metadata": {
        "id": "A8uz5R4YjPxE",
        "colab": {
          "base_uri": "https://localhost:8080/"
        },
        "outputId": "0f4adf8d-e7b5-4213-83b7-b975cd0e4140"
      },
      "outputs": [
        {
          "output_type": "stream",
          "name": "stdout",
          "text": [
            "upper limit :  7753320.925421377\n",
            "lower limit :  -6178470.654742881\n"
          ]
        }
      ],
      "source": [
        "upper_limit_newbalanceOrig = fraud_data['newbalanceOrig'].mean() + 3*fraud_data['newbalanceOrig'].std()\n",
        "lower_limit_newbalanceOrig = fraud_data['newbalanceOrig'].mean() - 3*fraud_data['newbalanceOrig'].std()\n",
        "print('upper limit : ',upper_limit_newbalanceOrig)\n",
        "print('lower limit : ', lower_limit_newbalanceOrig)"
      ]
    },
    {
      "cell_type": "code",
      "execution_count": 21,
      "metadata": {
        "id": "VK_igB2hvM8d"
      },
      "outputs": [],
      "source": []
    },
    {
      "cell_type": "code",
      "execution_count": 22,
      "metadata": {
        "id": "u7nfyI5WjroA",
        "colab": {
          "base_uri": "https://localhost:8080/"
        },
        "outputId": "90189eb2-9dd0-43a0-9e95-f17e35ece698"
      },
      "outputs": [
        {
          "output_type": "stream",
          "name": "stdout",
          "text": [
            "upper limit :  8245326.117723481\n",
            "lower limit :  -6555129.659844133\n"
          ]
        }
      ],
      "source": [
        "upper_limit_oldbalanceDest = fraud_data['oldbalanceDest'].mean() + 3*fraud_data['oldbalanceDest'].std()\n",
        "lower_limit_oldbalanceDest = fraud_data['oldbalanceDest'].mean() - 3*fraud_data['oldbalanceDest'].std()\n",
        "print('upper limit : ',upper_limit_oldbalanceDest)\n",
        "print('lower limit : ', lower_limit_oldbalanceDest)"
      ]
    },
    {
      "cell_type": "code",
      "execution_count": 22,
      "metadata": {
        "id": "fkKIfKKrvNas"
      },
      "outputs": [],
      "source": []
    },
    {
      "cell_type": "code",
      "execution_count": 23,
      "metadata": {
        "id": "gttkQ0_VjraQ",
        "colab": {
          "base_uri": "https://localhost:8080/"
        },
        "outputId": "a7c446dd-fd50-4d01-84c5-04513257a759"
      },
      "outputs": [
        {
          "output_type": "stream",
          "name": "stdout",
          "text": [
            "upper limit :  10039927.780189052\n",
            "lower limit :  -8036425.03977552\n"
          ]
        }
      ],
      "source": [
        "upper_limit_newbalanceDest = fraud_data['newbalanceDest'].mean() + 3*fraud_data['newbalanceDest'].std()\n",
        "lower_limit_newbalanceDest = fraud_data['oldbalanceDest'].mean() - 3*fraud_data['newbalanceDest'].std()\n",
        "print('upper limit : ',upper_limit_newbalanceDest)\n",
        "print('lower limit : ', lower_limit_newbalanceDest)"
      ]
    },
    {
      "cell_type": "code",
      "execution_count": 23,
      "metadata": {
        "id": "PEJgQ083vN7R"
      },
      "outputs": [],
      "source": []
    },
    {
      "cell_type": "code",
      "execution_count": 24,
      "metadata": {
        "id": "n2wXiKXxhl0A",
        "colab": {
          "base_uri": "https://localhost:8080/",
          "height": 423
        },
        "outputId": "2884d025-380b-4f5f-ee1f-28ec81692b18"
      },
      "outputs": [
        {
          "output_type": "execute_result",
          "data": {
            "text/plain": [
              "       step      type      amount     nameOrig  oldbalanceOrg  newbalanceOrig  \\\n",
              "84        1  TRANSFER   379856.23  C1449772539           0.00            0.00   \n",
              "88        1  TRANSFER   761507.39   C412788346           0.00            0.00   \n",
              "89        1  TRANSFER  1429051.47  C1520267010           0.00            0.00   \n",
              "94        1  TRANSFER  1724887.05  C1495608502           0.00            0.00   \n",
              "96        1  TRANSFER   581294.26   C843299092           0.00            0.00   \n",
              "...     ...       ...         ...          ...            ...             ...   \n",
              "41569     9  TRANSFER    14047.85   C249276733           0.00            0.00   \n",
              "41623     9  CASH_OUT   224045.04   C307557044           0.00            0.00   \n",
              "41844     9  CASH_OUT    70434.72  C1314332271       27169.00            0.00   \n",
              "42138     9  CASH_OUT   150447.44  C1822042893     1036816.42       886368.98   \n",
              "42207     9  CASH_OUT   320983.72   C570152464      422664.99       101681.27   \n",
              "\n",
              "          nameDest  oldbalanceDest  newbalanceDest  isFraud  isFlaggedFraud  \n",
              "84     C1590550415       900180.00     19169204.93      0.0             0.0  \n",
              "88     C1590550415      1280036.23     19169204.93      0.0             0.0  \n",
              "89     C1590550415      2041543.62     19169204.93      0.0             0.0  \n",
              "94     C1590550415      3470595.10     19169204.93      0.0             0.0  \n",
              "96     C1590550415      5195482.15     19169204.93      0.0             0.0  \n",
              "...            ...             ...             ...      ...             ...  \n",
              "41569   C481402298     10050175.88     10064223.73      0.0             0.0  \n",
              "41623   C155706298     13839520.24     14242272.20      0.0             0.0  \n",
              "41844  C1579862569        36304.00     12657174.33      0.0             0.0  \n",
              "42138  C1590550415     21967035.23     22117482.67      0.0             0.0  \n",
              "42207   C461640598     11457678.13     11781437.40      0.0             0.0  \n",
              "\n",
              "[1310 rows x 11 columns]"
            ],
            "text/html": [
              "\n",
              "  <div id=\"df-3fedae7c-611e-4117-a76f-dbeedfa4c7ce\" class=\"colab-df-container\">\n",
              "    <div>\n",
              "<style scoped>\n",
              "    .dataframe tbody tr th:only-of-type {\n",
              "        vertical-align: middle;\n",
              "    }\n",
              "\n",
              "    .dataframe tbody tr th {\n",
              "        vertical-align: top;\n",
              "    }\n",
              "\n",
              "    .dataframe thead th {\n",
              "        text-align: right;\n",
              "    }\n",
              "</style>\n",
              "<table border=\"1\" class=\"dataframe\">\n",
              "  <thead>\n",
              "    <tr style=\"text-align: right;\">\n",
              "      <th></th>\n",
              "      <th>step</th>\n",
              "      <th>type</th>\n",
              "      <th>amount</th>\n",
              "      <th>nameOrig</th>\n",
              "      <th>oldbalanceOrg</th>\n",
              "      <th>newbalanceOrig</th>\n",
              "      <th>nameDest</th>\n",
              "      <th>oldbalanceDest</th>\n",
              "      <th>newbalanceDest</th>\n",
              "      <th>isFraud</th>\n",
              "      <th>isFlaggedFraud</th>\n",
              "    </tr>\n",
              "  </thead>\n",
              "  <tbody>\n",
              "    <tr>\n",
              "      <th>84</th>\n",
              "      <td>1</td>\n",
              "      <td>TRANSFER</td>\n",
              "      <td>379856.23</td>\n",
              "      <td>C1449772539</td>\n",
              "      <td>0.00</td>\n",
              "      <td>0.00</td>\n",
              "      <td>C1590550415</td>\n",
              "      <td>900180.00</td>\n",
              "      <td>19169204.93</td>\n",
              "      <td>0.0</td>\n",
              "      <td>0.0</td>\n",
              "    </tr>\n",
              "    <tr>\n",
              "      <th>88</th>\n",
              "      <td>1</td>\n",
              "      <td>TRANSFER</td>\n",
              "      <td>761507.39</td>\n",
              "      <td>C412788346</td>\n",
              "      <td>0.00</td>\n",
              "      <td>0.00</td>\n",
              "      <td>C1590550415</td>\n",
              "      <td>1280036.23</td>\n",
              "      <td>19169204.93</td>\n",
              "      <td>0.0</td>\n",
              "      <td>0.0</td>\n",
              "    </tr>\n",
              "    <tr>\n",
              "      <th>89</th>\n",
              "      <td>1</td>\n",
              "      <td>TRANSFER</td>\n",
              "      <td>1429051.47</td>\n",
              "      <td>C1520267010</td>\n",
              "      <td>0.00</td>\n",
              "      <td>0.00</td>\n",
              "      <td>C1590550415</td>\n",
              "      <td>2041543.62</td>\n",
              "      <td>19169204.93</td>\n",
              "      <td>0.0</td>\n",
              "      <td>0.0</td>\n",
              "    </tr>\n",
              "    <tr>\n",
              "      <th>94</th>\n",
              "      <td>1</td>\n",
              "      <td>TRANSFER</td>\n",
              "      <td>1724887.05</td>\n",
              "      <td>C1495608502</td>\n",
              "      <td>0.00</td>\n",
              "      <td>0.00</td>\n",
              "      <td>C1590550415</td>\n",
              "      <td>3470595.10</td>\n",
              "      <td>19169204.93</td>\n",
              "      <td>0.0</td>\n",
              "      <td>0.0</td>\n",
              "    </tr>\n",
              "    <tr>\n",
              "      <th>96</th>\n",
              "      <td>1</td>\n",
              "      <td>TRANSFER</td>\n",
              "      <td>581294.26</td>\n",
              "      <td>C843299092</td>\n",
              "      <td>0.00</td>\n",
              "      <td>0.00</td>\n",
              "      <td>C1590550415</td>\n",
              "      <td>5195482.15</td>\n",
              "      <td>19169204.93</td>\n",
              "      <td>0.0</td>\n",
              "      <td>0.0</td>\n",
              "    </tr>\n",
              "    <tr>\n",
              "      <th>...</th>\n",
              "      <td>...</td>\n",
              "      <td>...</td>\n",
              "      <td>...</td>\n",
              "      <td>...</td>\n",
              "      <td>...</td>\n",
              "      <td>...</td>\n",
              "      <td>...</td>\n",
              "      <td>...</td>\n",
              "      <td>...</td>\n",
              "      <td>...</td>\n",
              "      <td>...</td>\n",
              "    </tr>\n",
              "    <tr>\n",
              "      <th>41569</th>\n",
              "      <td>9</td>\n",
              "      <td>TRANSFER</td>\n",
              "      <td>14047.85</td>\n",
              "      <td>C249276733</td>\n",
              "      <td>0.00</td>\n",
              "      <td>0.00</td>\n",
              "      <td>C481402298</td>\n",
              "      <td>10050175.88</td>\n",
              "      <td>10064223.73</td>\n",
              "      <td>0.0</td>\n",
              "      <td>0.0</td>\n",
              "    </tr>\n",
              "    <tr>\n",
              "      <th>41623</th>\n",
              "      <td>9</td>\n",
              "      <td>CASH_OUT</td>\n",
              "      <td>224045.04</td>\n",
              "      <td>C307557044</td>\n",
              "      <td>0.00</td>\n",
              "      <td>0.00</td>\n",
              "      <td>C155706298</td>\n",
              "      <td>13839520.24</td>\n",
              "      <td>14242272.20</td>\n",
              "      <td>0.0</td>\n",
              "      <td>0.0</td>\n",
              "    </tr>\n",
              "    <tr>\n",
              "      <th>41844</th>\n",
              "      <td>9</td>\n",
              "      <td>CASH_OUT</td>\n",
              "      <td>70434.72</td>\n",
              "      <td>C1314332271</td>\n",
              "      <td>27169.00</td>\n",
              "      <td>0.00</td>\n",
              "      <td>C1579862569</td>\n",
              "      <td>36304.00</td>\n",
              "      <td>12657174.33</td>\n",
              "      <td>0.0</td>\n",
              "      <td>0.0</td>\n",
              "    </tr>\n",
              "    <tr>\n",
              "      <th>42138</th>\n",
              "      <td>9</td>\n",
              "      <td>CASH_OUT</td>\n",
              "      <td>150447.44</td>\n",
              "      <td>C1822042893</td>\n",
              "      <td>1036816.42</td>\n",
              "      <td>886368.98</td>\n",
              "      <td>C1590550415</td>\n",
              "      <td>21967035.23</td>\n",
              "      <td>22117482.67</td>\n",
              "      <td>0.0</td>\n",
              "      <td>0.0</td>\n",
              "    </tr>\n",
              "    <tr>\n",
              "      <th>42207</th>\n",
              "      <td>9</td>\n",
              "      <td>CASH_OUT</td>\n",
              "      <td>320983.72</td>\n",
              "      <td>C570152464</td>\n",
              "      <td>422664.99</td>\n",
              "      <td>101681.27</td>\n",
              "      <td>C461640598</td>\n",
              "      <td>11457678.13</td>\n",
              "      <td>11781437.40</td>\n",
              "      <td>0.0</td>\n",
              "      <td>0.0</td>\n",
              "    </tr>\n",
              "  </tbody>\n",
              "</table>\n",
              "<p>1310 rows × 11 columns</p>\n",
              "</div>\n",
              "    <div class=\"colab-df-buttons\">\n",
              "\n",
              "  <div class=\"colab-df-container\">\n",
              "    <button class=\"colab-df-convert\" onclick=\"convertToInteractive('df-3fedae7c-611e-4117-a76f-dbeedfa4c7ce')\"\n",
              "            title=\"Convert this dataframe to an interactive table.\"\n",
              "            style=\"display:none;\">\n",
              "\n",
              "  <svg xmlns=\"http://www.w3.org/2000/svg\" height=\"24px\" viewBox=\"0 -960 960 960\">\n",
              "    <path d=\"M120-120v-720h720v720H120Zm60-500h600v-160H180v160Zm220 220h160v-160H400v160Zm0 220h160v-160H400v160ZM180-400h160v-160H180v160Zm440 0h160v-160H620v160ZM180-180h160v-160H180v160Zm440 0h160v-160H620v160Z\"/>\n",
              "  </svg>\n",
              "    </button>\n",
              "\n",
              "  <style>\n",
              "    .colab-df-container {\n",
              "      display:flex;\n",
              "      gap: 12px;\n",
              "    }\n",
              "\n",
              "    .colab-df-convert {\n",
              "      background-color: #E8F0FE;\n",
              "      border: none;\n",
              "      border-radius: 50%;\n",
              "      cursor: pointer;\n",
              "      display: none;\n",
              "      fill: #1967D2;\n",
              "      height: 32px;\n",
              "      padding: 0 0 0 0;\n",
              "      width: 32px;\n",
              "    }\n",
              "\n",
              "    .colab-df-convert:hover {\n",
              "      background-color: #E2EBFA;\n",
              "      box-shadow: 0px 1px 2px rgba(60, 64, 67, 0.3), 0px 1px 3px 1px rgba(60, 64, 67, 0.15);\n",
              "      fill: #174EA6;\n",
              "    }\n",
              "\n",
              "    .colab-df-buttons div {\n",
              "      margin-bottom: 4px;\n",
              "    }\n",
              "\n",
              "    [theme=dark] .colab-df-convert {\n",
              "      background-color: #3B4455;\n",
              "      fill: #D2E3FC;\n",
              "    }\n",
              "\n",
              "    [theme=dark] .colab-df-convert:hover {\n",
              "      background-color: #434B5C;\n",
              "      box-shadow: 0px 1px 3px 1px rgba(0, 0, 0, 0.15);\n",
              "      filter: drop-shadow(0px 1px 2px rgba(0, 0, 0, 0.3));\n",
              "      fill: #FFFFFF;\n",
              "    }\n",
              "  </style>\n",
              "\n",
              "    <script>\n",
              "      const buttonEl =\n",
              "        document.querySelector('#df-3fedae7c-611e-4117-a76f-dbeedfa4c7ce button.colab-df-convert');\n",
              "      buttonEl.style.display =\n",
              "        google.colab.kernel.accessAllowed ? 'block' : 'none';\n",
              "\n",
              "      async function convertToInteractive(key) {\n",
              "        const element = document.querySelector('#df-3fedae7c-611e-4117-a76f-dbeedfa4c7ce');\n",
              "        const dataTable =\n",
              "          await google.colab.kernel.invokeFunction('convertToInteractive',\n",
              "                                                    [key], {});\n",
              "        if (!dataTable) return;\n",
              "\n",
              "        const docLinkHtml = 'Like what you see? Visit the ' +\n",
              "          '<a target=\"_blank\" href=https://colab.research.google.com/notebooks/data_table.ipynb>data table notebook</a>'\n",
              "          + ' to learn more about interactive tables.';\n",
              "        element.innerHTML = '';\n",
              "        dataTable['output_type'] = 'display_data';\n",
              "        await google.colab.output.renderOutput(dataTable, element);\n",
              "        const docLink = document.createElement('div');\n",
              "        docLink.innerHTML = docLinkHtml;\n",
              "        element.appendChild(docLink);\n",
              "      }\n",
              "    </script>\n",
              "  </div>\n",
              "\n",
              "\n",
              "<div id=\"df-b6578a92-f325-48a9-8b48-9175f8b4900e\">\n",
              "  <button class=\"colab-df-quickchart\" onclick=\"quickchart('df-b6578a92-f325-48a9-8b48-9175f8b4900e')\"\n",
              "            title=\"Suggest charts\"\n",
              "            style=\"display:none;\">\n",
              "\n",
              "<svg xmlns=\"http://www.w3.org/2000/svg\" height=\"24px\"viewBox=\"0 0 24 24\"\n",
              "     width=\"24px\">\n",
              "    <g>\n",
              "        <path d=\"M19 3H5c-1.1 0-2 .9-2 2v14c0 1.1.9 2 2 2h14c1.1 0 2-.9 2-2V5c0-1.1-.9-2-2-2zM9 17H7v-7h2v7zm4 0h-2V7h2v10zm4 0h-2v-4h2v4z\"/>\n",
              "    </g>\n",
              "</svg>\n",
              "  </button>\n",
              "\n",
              "<style>\n",
              "  .colab-df-quickchart {\n",
              "      --bg-color: #E8F0FE;\n",
              "      --fill-color: #1967D2;\n",
              "      --hover-bg-color: #E2EBFA;\n",
              "      --hover-fill-color: #174EA6;\n",
              "      --disabled-fill-color: #AAA;\n",
              "      --disabled-bg-color: #DDD;\n",
              "  }\n",
              "\n",
              "  [theme=dark] .colab-df-quickchart {\n",
              "      --bg-color: #3B4455;\n",
              "      --fill-color: #D2E3FC;\n",
              "      --hover-bg-color: #434B5C;\n",
              "      --hover-fill-color: #FFFFFF;\n",
              "      --disabled-bg-color: #3B4455;\n",
              "      --disabled-fill-color: #666;\n",
              "  }\n",
              "\n",
              "  .colab-df-quickchart {\n",
              "    background-color: var(--bg-color);\n",
              "    border: none;\n",
              "    border-radius: 50%;\n",
              "    cursor: pointer;\n",
              "    display: none;\n",
              "    fill: var(--fill-color);\n",
              "    height: 32px;\n",
              "    padding: 0;\n",
              "    width: 32px;\n",
              "  }\n",
              "\n",
              "  .colab-df-quickchart:hover {\n",
              "    background-color: var(--hover-bg-color);\n",
              "    box-shadow: 0 1px 2px rgba(60, 64, 67, 0.3), 0 1px 3px 1px rgba(60, 64, 67, 0.15);\n",
              "    fill: var(--button-hover-fill-color);\n",
              "  }\n",
              "\n",
              "  .colab-df-quickchart-complete:disabled,\n",
              "  .colab-df-quickchart-complete:disabled:hover {\n",
              "    background-color: var(--disabled-bg-color);\n",
              "    fill: var(--disabled-fill-color);\n",
              "    box-shadow: none;\n",
              "  }\n",
              "\n",
              "  .colab-df-spinner {\n",
              "    border: 2px solid var(--fill-color);\n",
              "    border-color: transparent;\n",
              "    border-bottom-color: var(--fill-color);\n",
              "    animation:\n",
              "      spin 1s steps(1) infinite;\n",
              "  }\n",
              "\n",
              "  @keyframes spin {\n",
              "    0% {\n",
              "      border-color: transparent;\n",
              "      border-bottom-color: var(--fill-color);\n",
              "      border-left-color: var(--fill-color);\n",
              "    }\n",
              "    20% {\n",
              "      border-color: transparent;\n",
              "      border-left-color: var(--fill-color);\n",
              "      border-top-color: var(--fill-color);\n",
              "    }\n",
              "    30% {\n",
              "      border-color: transparent;\n",
              "      border-left-color: var(--fill-color);\n",
              "      border-top-color: var(--fill-color);\n",
              "      border-right-color: var(--fill-color);\n",
              "    }\n",
              "    40% {\n",
              "      border-color: transparent;\n",
              "      border-right-color: var(--fill-color);\n",
              "      border-top-color: var(--fill-color);\n",
              "    }\n",
              "    60% {\n",
              "      border-color: transparent;\n",
              "      border-right-color: var(--fill-color);\n",
              "    }\n",
              "    80% {\n",
              "      border-color: transparent;\n",
              "      border-right-color: var(--fill-color);\n",
              "      border-bottom-color: var(--fill-color);\n",
              "    }\n",
              "    90% {\n",
              "      border-color: transparent;\n",
              "      border-bottom-color: var(--fill-color);\n",
              "    }\n",
              "  }\n",
              "</style>\n",
              "\n",
              "  <script>\n",
              "    async function quickchart(key) {\n",
              "      const quickchartButtonEl =\n",
              "        document.querySelector('#' + key + ' button');\n",
              "      quickchartButtonEl.disabled = true;  // To prevent multiple clicks.\n",
              "      quickchartButtonEl.classList.add('colab-df-spinner');\n",
              "      try {\n",
              "        const charts = await google.colab.kernel.invokeFunction(\n",
              "            'suggestCharts', [key], {});\n",
              "      } catch (error) {\n",
              "        console.error('Error during call to suggestCharts:', error);\n",
              "      }\n",
              "      quickchartButtonEl.classList.remove('colab-df-spinner');\n",
              "      quickchartButtonEl.classList.add('colab-df-quickchart-complete');\n",
              "    }\n",
              "    (() => {\n",
              "      let quickchartButtonEl =\n",
              "        document.querySelector('#df-b6578a92-f325-48a9-8b48-9175f8b4900e button');\n",
              "      quickchartButtonEl.style.display =\n",
              "        google.colab.kernel.accessAllowed ? 'block' : 'none';\n",
              "    })();\n",
              "  </script>\n",
              "</div>\n",
              "\n",
              "    </div>\n",
              "  </div>\n"
            ],
            "application/vnd.google.colaboratory.intrinsic+json": {
              "type": "dataframe",
              "summary": "{\n  \"name\": \"fraud_data\",\n  \"rows\": 1310,\n  \"fields\": [\n    {\n      \"column\": \"step\",\n      \"properties\": {\n        \"dtype\": \"number\",\n        \"std\": 2,\n        \"min\": 1,\n        \"max\": 9,\n        \"num_unique_values\": 9,\n        \"samples\": [\n          8,\n          2,\n          6\n        ],\n        \"semantic_type\": \"\",\n        \"description\": \"\"\n      }\n    },\n    {\n      \"column\": \"type\",\n      \"properties\": {\n        \"dtype\": \"category\",\n        \"num_unique_values\": 4,\n        \"samples\": [\n          \"CASH_OUT\",\n          \"DEBIT\",\n          \"TRANSFER\"\n        ],\n        \"semantic_type\": \"\",\n        \"description\": \"\"\n      }\n    },\n    {\n      \"column\": \"amount\",\n      \"properties\": {\n        \"dtype\": \"number\",\n        \"std\": 739592.9518562596,\n        \"min\": 98.69,\n        \"max\": 5677662.29,\n        \"num_unique_values\": 1310,\n        \"samples\": [\n          122484.42,\n          2256769.88,\n          2943845.35\n        ],\n        \"semantic_type\": \"\",\n        \"description\": \"\"\n      }\n    },\n    {\n      \"column\": \"nameOrig\",\n      \"properties\": {\n        \"dtype\": \"string\",\n        \"num_unique_values\": 1310,\n        \"samples\": [\n          \"C401077408\",\n          \"C1965594220\",\n          \"C1360289756\"\n        ],\n        \"semantic_type\": \"\",\n        \"description\": \"\"\n      }\n    },\n    {\n      \"column\": \"oldbalanceOrg\",\n      \"properties\": {\n        \"dtype\": \"number\",\n        \"std\": 3129905.3530675876,\n        \"min\": 0.0,\n        \"max\": 24754894.03,\n        \"num_unique_values\": 645,\n        \"samples\": [\n          4899653.28,\n          5874847.56,\n          11569.0\n        ],\n        \"semantic_type\": \"\",\n        \"description\": \"\"\n      }\n    },\n    {\n      \"column\": \"newbalanceOrig\",\n      \"properties\": {\n        \"dtype\": \"number\",\n        \"std\": 3194219.939630641,\n        \"min\": 0.0,\n        \"max\": 24801034.77,\n        \"num_unique_values\": 455,\n        \"samples\": [\n          9461685.7,\n          1330326.28,\n          385529.13\n        ],\n        \"semantic_type\": \"\",\n        \"description\": \"\"\n      }\n    },\n    {\n      \"column\": \"nameDest\",\n      \"properties\": {\n        \"dtype\": \"category\",\n        \"num_unique_values\": 98,\n        \"samples\": [\n          \"C2042633527\",\n          \"C1423992712\",\n          \"C155706298\"\n        ],\n        \"semantic_type\": \"\",\n        \"description\": \"\"\n      }\n    },\n    {\n      \"column\": \"oldbalanceDest\",\n      \"properties\": {\n        \"dtype\": \"number\",\n        \"std\": 4819160.010381037,\n        \"min\": 0.0,\n        \"max\": 29584542.04,\n        \"num_unique_values\": 1309,\n        \"samples\": [\n          13997818.26,\n          14123307.37,\n          161270.71\n        ],\n        \"semantic_type\": \"\",\n        \"description\": \"\"\n      }\n    },\n    {\n      \"column\": \"newbalanceDest\",\n      \"properties\": {\n        \"dtype\": \"number\",\n        \"std\": 3743794.0031696768,\n        \"min\": 10053886.97,\n        \"max\": 31306920.44,\n        \"num_unique_values\": 221,\n        \"samples\": [\n          16103324.17,\n          10830190.47,\n          14786300.22\n        ],\n        \"semantic_type\": \"\",\n        \"description\": \"\"\n      }\n    },\n    {\n      \"column\": \"isFraud\",\n      \"properties\": {\n        \"dtype\": \"number\",\n        \"std\": 0.02762894819977689,\n        \"min\": 0.0,\n        \"max\": 1.0,\n        \"num_unique_values\": 2,\n        \"samples\": [\n          1.0,\n          0.0\n        ],\n        \"semantic_type\": \"\",\n        \"description\": \"\"\n      }\n    },\n    {\n      \"column\": \"isFlaggedFraud\",\n      \"properties\": {\n        \"dtype\": \"number\",\n        \"std\": 0.0,\n        \"min\": 0.0,\n        \"max\": 0.0,\n        \"num_unique_values\": 1,\n        \"samples\": [\n          0.0\n        ],\n        \"semantic_type\": \"\",\n        \"description\": \"\"\n      }\n    }\n  ]\n}"
            }
          },
          "metadata": {},
          "execution_count": 24
        }
      ],
      "source": [
        "#find the outliers\n",
        "\n",
        "\n",
        "fraud_data.loc[(fraud_data['amount']> upper_limit_amount )|(fraud_data['amount']<lower_limit_amount)]\n",
        "fraud_data.loc[(fraud_data['oldbalanceOrg']> upper_limit_oldbalanceOrg )|(fraud_data['oldbalanceOrg']<lower_limit_oldbalanceOrg)]\n",
        "fraud_data.loc[(fraud_data['newbalanceOrig']> upper_limit_newbalanceOrig )|(fraud_data['newbalanceOrig']<lower_limit_newbalanceOrig)]\n",
        "fraud_data.loc[(fraud_data['oldbalanceDest']> upper_limit_oldbalanceDest )|(fraud_data['oldbalanceDest']<lower_limit_oldbalanceDest)]\n",
        "fraud_data.loc[(fraud_data['newbalanceDest']> upper_limit_newbalanceDest )|(fraud_data['newbalanceDest']<lower_limit_newbalanceDest)]"
      ]
    },
    {
      "cell_type": "code",
      "execution_count": 25,
      "metadata": {
        "id": "7m_HdS8XicEq",
        "colab": {
          "base_uri": "https://localhost:8080/"
        },
        "outputId": "2ca9ba85-2aab-4f58-d1d9-2efc5fcf253a"
      },
      "outputs": [
        {
          "output_type": "stream",
          "name": "stdout",
          "text": [
            "Filtered data size: 38981\n",
            "Original fraud data size: 42270\n"
          ]
        }
      ],
      "source": [
        "#trimming the data\n",
        "\n",
        "\n",
        "filtered_fraud_data = fraud_data.loc[\n",
        "    (fraud_data['amount'] < upper_limit_amount) & (fraud_data['amount'] > lower_limit_amount) &\n",
        "    (fraud_data['oldbalanceOrg'] < upper_limit_oldbalanceOrg) & (fraud_data['oldbalanceOrg'] > lower_limit_oldbalanceOrg) &\n",
        "    (fraud_data['newbalanceOrig'] < upper_limit_newbalanceOrig) & (fraud_data['newbalanceOrig'] > lower_limit_newbalanceOrig) &\n",
        "    (fraud_data['oldbalanceDest'] < upper_limit_oldbalanceDest) & (fraud_data['oldbalanceDest'] > lower_limit_oldbalanceDest) &\n",
        "    (fraud_data['newbalanceDest'] < upper_limit_newbalanceDest) & (fraud_data['newbalanceDest'] > lower_limit_newbalanceDest)\n",
        "]\n",
        "\n",
        "print('Filtered data size:', len(filtered_fraud_data))\n",
        "print('Original fraud data size:', len(fraud_data))"
      ]
    },
    {
      "cell_type": "code",
      "execution_count": 26,
      "metadata": {
        "id": "SbTGl4A_wlap",
        "colab": {
          "base_uri": "https://localhost:8080/",
          "height": 807
        },
        "outputId": "96852ef7-5040-44ac-d762-445f002224aa"
      },
      "outputs": [
        {
          "output_type": "display_data",
          "data": {
            "text/plain": [
              "<Figure size 1200x800 with 5 Axes>"
            ],
            "image/png": "[encoded data removed]"
          },
          "metadata": {}
        }
      ],
      "source": [
        "plt.figure(figsize=(12, 8))\n",
        "\n",
        "# Plotting boxplots for key features in the filtered fraud data\n",
        "plt.subplot(2, 3, 1)\n",
        "sns.boxplot(x='amount', data=filtered_fraud_data)\n",
        "plt.title('Boxplot of Amount')\n",
        "\n",
        "plt.subplot(2, 3, 2)\n",
        "sns.boxplot(x='oldbalanceOrg', data=filtered_fraud_data)\n",
        "plt.title('Boxplot of Old Balance Origin')\n",
        "\n",
        "plt.subplot(2, 3, 3)\n",
        "sns.boxplot(x='newbalanceOrig', data=filtered_fraud_data)\n",
        "plt.title('Boxplot of New Balance Origin')\n",
        "\n",
        "plt.subplot(2, 3, 4)\n",
        "sns.boxplot(x='oldbalanceDest', data=filtered_fraud_data)\n",
        "plt.title('Boxplot of Old Balance Destination')\n",
        "\n",
        "plt.subplot(2, 3, 5)\n",
        "sns.boxplot(x='newbalanceDest', data=filtered_fraud_data)\n",
        "plt.title('Boxplot of New Balance Destination')\n",
        "\n",
        "plt.tight_layout()\n",
        "plt.show()"
      ]
    },
    {
      "cell_type": "code",
      "execution_count": 27,
      "metadata": {
        "id": "CUH8xHv2wlQy"
      },
      "outputs": [],
      "source": [
        "for index, row in filtered_fraud_data.iterrows():\n",
        "    if (row['amount'] == row['oldbalanceOrg']) and (row['newbalanceDest'] == 0):\n",
        "        filtered_fraud_data.at[index, 'isFraud'] = 1  # Mark as fraud\n",
        "    elif (row['oldbalanceDest'] == 0) and (row['newbalanceDest'] == row['amount']):\n",
        "        filtered_fraud_data.at[index, 'isFraud'] = 1  # Mark as fraud\n",
        "    elif (row['amount'] > 200000) and (row['isFlaggedFraud'] == 1):\n",
        "        filtered_fraud_data.at[index, 'isFraud'] = 1  # Mark as fraud\n",
        "    else:\n",
        "        filtered_fraud_data.at[index, 'isFraud'] = 0  # Not fraud"
      ]
    },
    {
      "cell_type": "code",
      "execution_count": 27,
      "metadata": {
        "id": "J0rcItyr2qfB"
      },
      "outputs": [],
      "source": []
    },
    {
      "cell_type": "code",
      "execution_count": 28,
      "metadata": {
        "colab": {
          "base_uri": "https://localhost:8080/"
        },
        "id": "QAf0uLeGwk2k",
        "outputId": "ce1c4864-5235-4774-a3c6-59571c5a1126"
      },
      "outputs": [
        {
          "output_type": "stream",
          "name": "stdout",
          "text": [
            "isFraud\n",
            "0.0    38412\n",
            "1.0      569\n",
            "Name: count, dtype: int64\n",
            "(38981, 11)\n"
          ]
        }
      ],
      "source": [
        "print(filtered_fraud_data['isFraud'].value_counts())\n",
        "print(filtered_fraud_data.shape)"
      ]
    },
    {
      "cell_type": "code",
      "execution_count": 29,
      "metadata": {
        "colab": {
          "base_uri": "https://localhost:8080/"
        },
        "id": "l2yT4Fu6q9eZ",
        "outputId": "f2464a65-e291-47f1-e1a4-5052ee99ab3d"
      },
      "outputs": [
        {
          "output_type": "execute_result",
          "data": {
            "text/plain": [
              "Index(['step', 'type', 'amount', 'nameOrig', 'oldbalanceOrg', 'newbalanceOrig',\n",
              "       'nameDest', 'oldbalanceDest', 'newbalanceDest', 'isFraud',\n",
              "       'isFlaggedFraud'],\n",
              "      dtype='object')"
            ]
          },
          "metadata": {},
          "execution_count": 29
        }
      ],
      "source": [
        "filtered_fraud_data.columns"
      ]
    },
    {
      "cell_type": "code",
      "source": [],
      "metadata": {
        "id": "hGXRwnIflILe"
      },
      "execution_count": 29,
      "outputs": []
    },
    {
      "cell_type": "code",
      "execution_count": 30,
      "metadata": {
        "id": "TnTnpv62KF9Q"
      },
      "outputs": [],
      "source": [
        "#multi-collinearity\n",
        "y = filtered_fraud_data['isFraud']\n",
        "x =filtered_fraud_data[['amount', 'oldbalanceOrg', 'newbalanceOrig','oldbalanceDest', 'newbalanceDest']]\n",
        "x = sm.add_constant(x)\n",
        "model = sm.OLS(y, x).fit()#ordinary least square\n"
      ]
    },
    {
      "cell_type": "code",
      "execution_count": 31,
      "metadata": {
        "colab": {
          "base_uri": "https://localhost:8080/",
          "height": 566
        },
        "id": "DmbaCe3VLvTu",
        "outputId": "4c4a6402-9fbd-4903-a083-ea76f9e41f25"
      },
      "outputs": [
        {
          "output_type": "execute_result",
          "data": {
            "text/plain": [
              "<class 'statsmodels.iolib.summary.Summary'>\n",
              "\"\"\"\n",
              "                            OLS Regression Results                            \n",
              "==============================================================================\n",
              "Dep. Variable:                isFraud   R-squared:                       0.016\n",
              "Model:                            OLS   Adj. R-squared:                  0.016\n",
              "Method:                 Least Squares   F-statistic:                     124.6\n",
              "Date:                Sun, 18 Aug 2024   Prob (F-statistic):          2.49e-131\n",
              "Time:                        18:52:45   Log-Likelihood:                 27669.\n",
              "No. Observations:               38981   AIC:                        -5.533e+04\n",
              "Df Residuals:                   38975   BIC:                        -5.528e+04\n",
              "Df Model:                           5                                         \n",
              "Covariance Type:            nonrobust                                         \n",
              "==================================================================================\n",
              "                     coef    std err          t      P>|t|      [0.025      0.975]\n",
              "----------------------------------------------------------------------------------\n",
              "const              0.0124      0.001     16.506      0.000       0.011       0.014\n",
              "amount          7.556e-08   4.19e-09     18.016      0.000    6.73e-08    8.38e-08\n",
              "oldbalanceOrg   1.088e-07   7.12e-09     15.292      0.000    9.49e-08    1.23e-07\n",
              "newbalanceOrig  -1.09e-07   6.93e-09    -15.712      0.000   -1.23e-07   -9.54e-08\n",
              "oldbalanceDest -8.555e-10   1.18e-09     -0.727      0.467   -3.16e-09    1.45e-09\n",
              "newbalanceDest -6.309e-09   9.12e-10     -6.916      0.000    -8.1e-09   -4.52e-09\n",
              "==============================================================================\n",
              "Omnibus:                    51757.915   Durbin-Watson:                   1.922\n",
              "Prob(Omnibus):                  0.000   Jarque-Bera (JB):          6569469.658\n",
              "Skew:                           7.906   Prob(JB):                         0.00\n",
              "Kurtosis:                      64.601   Cond. No.                     2.69e+06\n",
              "==============================================================================\n",
              "\n",
              "Notes:\n",
              "[1] Standard Errors assume that the covariance matrix of the errors is correctly specified.\n",
              "[2] The condition number is large, 2.69e+06. This might indicate that there are\n",
              "strong multicollinearity or other numerical problems.\n",
              "\"\"\""
            ],
            "text/html": [
              "<table class=\"simpletable\">\n",
              "<caption>OLS Regression Results</caption>\n",
              "<tr>\n",
              "  <th>Dep. Variable:</th>         <td>isFraud</td>     <th>  R-squared:         </th>  <td>   0.016</td> \n",
              "</tr>\n",
              "<tr>\n",
              "  <th>Model:</th>                   <td>OLS</td>       <th>  Adj. R-squared:    </th>  <td>   0.016</td> \n",
              "</tr>\n",
              "<tr>\n",
              "  <th>Method:</th>             <td>Least Squares</td>  <th>  F-statistic:       </th>  <td>   124.6</td> \n",
              "</tr>\n",
              "<tr>\n",
              "  <th>Date:</th>             <td>Sun, 18 Aug 2024</td> <th>  Prob (F-statistic):</th>  <td>2.49e-131</td>\n",
              "</tr>\n",
              "<tr>\n",
              "  <th>Time:</th>                 <td>18:52:45</td>     <th>  Log-Likelihood:    </th>  <td>  27669.</td> \n",
              "</tr>\n",
              "<tr>\n",
              "  <th>No. Observations:</th>      <td> 38981</td>      <th>  AIC:               </th> <td>-5.533e+04</td>\n",
              "</tr>\n",
              "<tr>\n",
              "  <th>Df Residuals:</th>          <td> 38975</td>      <th>  BIC:               </th> <td>-5.528e+04</td>\n",
              "</tr>\n",
              "<tr>\n",
              "  <th>Df Model:</th>              <td>     5</td>      <th>                     </th>      <td> </td>    \n",
              "</tr>\n",
              "<tr>\n",
              "  <th>Covariance Type:</th>      <td>nonrobust</td>    <th>                     </th>      <td> </td>    \n",
              "</tr>\n",
              "</table>\n",
              "<table class=\"simpletable\">\n",
              "<tr>\n",
              "         <td></td>           <th>coef</th>     <th>std err</th>      <th>t</th>      <th>P>|t|</th>  <th>[0.025</th>    <th>0.975]</th>  \n",
              "</tr>\n",
              "<tr>\n",
              "  <th>const</th>          <td>    0.0124</td> <td>    0.001</td> <td>   16.506</td> <td> 0.000</td> <td>    0.011</td> <td>    0.014</td>\n",
              "</tr>\n",
              "<tr>\n",
              "  <th>amount</th>         <td> 7.556e-08</td> <td> 4.19e-09</td> <td>   18.016</td> <td> 0.000</td> <td> 6.73e-08</td> <td> 8.38e-08</td>\n",
              "</tr>\n",
              "<tr>\n",
              "  <th>oldbalanceOrg</th>  <td> 1.088e-07</td> <td> 7.12e-09</td> <td>   15.292</td> <td> 0.000</td> <td> 9.49e-08</td> <td> 1.23e-07</td>\n",
              "</tr>\n",
              "<tr>\n",
              "  <th>newbalanceOrig</th> <td> -1.09e-07</td> <td> 6.93e-09</td> <td>  -15.712</td> <td> 0.000</td> <td>-1.23e-07</td> <td>-9.54e-08</td>\n",
              "</tr>\n",
              "<tr>\n",
              "  <th>oldbalanceDest</th> <td>-8.555e-10</td> <td> 1.18e-09</td> <td>   -0.727</td> <td> 0.467</td> <td>-3.16e-09</td> <td> 1.45e-09</td>\n",
              "</tr>\n",
              "<tr>\n",
              "  <th>newbalanceDest</th> <td>-6.309e-09</td> <td> 9.12e-10</td> <td>   -6.916</td> <td> 0.000</td> <td> -8.1e-09</td> <td>-4.52e-09</td>\n",
              "</tr>\n",
              "</table>\n",
              "<table class=\"simpletable\">\n",
              "<tr>\n",
              "  <th>Omnibus:</th>       <td>51757.915</td> <th>  Durbin-Watson:     </th>  <td>   1.922</td>  \n",
              "</tr>\n",
              "<tr>\n",
              "  <th>Prob(Omnibus):</th>  <td> 0.000</td>   <th>  Jarque-Bera (JB):  </th> <td>6569469.658</td>\n",
              "</tr>\n",
              "<tr>\n",
              "  <th>Skew:</th>           <td> 7.906</td>   <th>  Prob(JB):          </th>  <td>    0.00</td>  \n",
              "</tr>\n",
              "<tr>\n",
              "  <th>Kurtosis:</th>       <td>64.601</td>   <th>  Cond. No.          </th>  <td>2.69e+06</td>  \n",
              "</tr>\n",
              "</table><br/><br/>Notes:<br/>[1] Standard Errors assume that the covariance matrix of the errors is correctly specified.<br/>[2] The condition number is large, 2.69e+06. This might indicate that there are<br/>strong multicollinearity or other numerical problems."
            ],
            "text/latex": "\\begin{center}\n\\begin{tabular}{lclc}\n\\toprule\n\\textbf{Dep. Variable:}    &     isFraud      & \\textbf{  R-squared:         } &      0.016   \\\\\n\\textbf{Model:}            &       OLS        & \\textbf{  Adj. R-squared:    } &      0.016   \\\\\n\\textbf{Method:}           &  Least Squares   & \\textbf{  F-statistic:       } &      124.6   \\\\\n\\textbf{Date:}             & Sun, 18 Aug 2024 & \\textbf{  Prob (F-statistic):} &  2.49e-131   \\\\\n\\textbf{Time:}             &     18:52:45     & \\textbf{  Log-Likelihood:    } &     27669.   \\\\\n\\textbf{No. Observations:} &       38981      & \\textbf{  AIC:               } &  -5.533e+04  \\\\\n\\textbf{Df Residuals:}     &       38975      & \\textbf{  BIC:               } &  -5.528e+04  \\\\\n\\textbf{Df Model:}         &           5      & \\textbf{                     } &              \\\\\n\\textbf{Covariance Type:}  &    nonrobust     & \\textbf{                     } &              \\\\\n\\bottomrule\n\\end{tabular}\n\\begin{tabular}{lcccccc}\n                        & \\textbf{coef} & \\textbf{std err} & \\textbf{t} & \\textbf{P$> |$t$|$} & \\textbf{[0.025} & \\textbf{0.975]}  \\\\\n\\midrule\n\\textbf{const}          &       0.0124  &        0.001     &    16.506  &         0.000        &        0.011    &        0.014     \\\\\n\\textbf{amount}         &    7.556e-08  &     4.19e-09     &    18.016  &         0.000        &     6.73e-08    &     8.38e-08     \\\\\n\\textbf{oldbalanceOrg}  &    1.088e-07  &     7.12e-09     &    15.292  &         0.000        &     9.49e-08    &     1.23e-07     \\\\\n\\textbf{newbalanceOrig} &    -1.09e-07  &     6.93e-09     &   -15.712  &         0.000        &    -1.23e-07    &    -9.54e-08     \\\\\n\\textbf{oldbalanceDest} &   -8.555e-10  &     1.18e-09     &    -0.727  &         0.467        &    -3.16e-09    &     1.45e-09     \\\\\n\\textbf{newbalanceDest} &   -6.309e-09  &     9.12e-10     &    -6.916  &         0.000        &     -8.1e-09    &    -4.52e-09     \\\\\n\\bottomrule\n\\end{tabular}\n\\begin{tabular}{lclc}\n\\textbf{Omnibus:}       & 51757.915 & \\textbf{  Durbin-Watson:     } &      1.922   \\\\\n\\textbf{Prob(Omnibus):} &    0.000  & \\textbf{  Jarque-Bera (JB):  } & 6569469.658  \\\\\n\\textbf{Skew:}          &    7.906  & \\textbf{  Prob(JB):          } &       0.00   \\\\\n\\textbf{Kurtosis:}      &   64.601  & \\textbf{  Cond. No.          } &   2.69e+06   \\\\\n\\bottomrule\n\\end{tabular}\n%\\caption{OLS Regression Results}\n\\end{center}\n\nNotes: \\newline\n [1] Standard Errors assume that the covariance matrix of the errors is correctly specified. \\newline\n [2] The condition number is large, 2.69e+06. This might indicate that there are \\newline\n strong multicollinearity or other numerical problems."
          },
          "metadata": {},
          "execution_count": 31
        }
      ],
      "source": [
        "model.summary()"
      ]
    },
    {
      "cell_type": "code",
      "execution_count": 32,
      "metadata": {
        "colab": {
          "base_uri": "https://localhost:8080/"
        },
        "id": "g53B5on2NFvf",
        "outputId": "60419334-6c10-4a8a-fe5d-61606845c00b"
      },
      "outputs": [
        {
          "output_type": "stream",
          "name": "stderr",
          "text": [
            "<ipython-input-32-74ce6a71305b>:1: SettingWithCopyWarning: \n",
            "A value is trying to be set on a copy of a slice from a DataFrame\n",
            "\n",
            "See the caveats in the documentation: https://pandas.pydata.org/pandas-docs/stable/user_guide/indexing.html#returning-a-view-versus-a-copy\n",
            "  filtered_fraud_data.drop(['nameDest','nameOrig'],axis=1, inplace=True)\n"
          ]
        }
      ],
      "source": [
        "\n",
        "filtered_fraud_data.drop(['nameDest','nameOrig'],axis=1, inplace=True)\n",
        "y = filtered_fraud_data['isFraud']\n",
        "x = filtered_fraud_data.drop('isFraud',axis=1 )"
      ]
    },
    {
      "cell_type": "code",
      "execution_count": 32,
      "metadata": {
        "id": "ocLk6stb9Fr7"
      },
      "outputs": [],
      "source": []
    },
    {
      "cell_type": "code",
      "execution_count": 33,
      "metadata": {
        "colab": {
          "base_uri": "https://localhost:8080/"
        },
        "id": "Z9EG2xMIPGA0",
        "outputId": "9871106f-46fe-466c-8afb-b801297e470d"
      },
      "outputs": [
        {
          "output_type": "stream",
          "name": "stdout",
          "text": [
            "(38412, 9)\n",
            "(569, 9)\n"
          ]
        }
      ],
      "source": [
        "state = np.random.RandomState(42)\n",
        "x_outliers = state.uniform(low=0,high=1,size=(x.shape[0],x.shape[1]))\n",
        "not_fraud = filtered_fraud_data[filtered_fraud_data['isFraud']==0]\n",
        "can_be_fraud = filtered_fraud_data[filtered_fraud_data['isFraud']==1]\n",
        "print(not_fraud.shape)\n",
        "print(can_be_fraud.shape)"
      ]
    },
    {
      "cell_type": "code",
      "execution_count": 33,
      "metadata": {
        "id": "60JQk_VOApD2"
      },
      "outputs": [],
      "source": []
    },
    {
      "cell_type": "code",
      "execution_count": 34,
      "metadata": {
        "id": "rOV9cKVYQWlF"
      },
      "outputs": [],
      "source": [
        "#Encodeing\n",
        "le = LabelEncoder()\n",
        "x['type'] = le.fit_transform(x['type'])  # Encode 'type' column\n",
        "\n",
        "smt = SMOTETomek(random_state=42)\n",
        "x_res,y_res = smt.fit_resample(x,y)"
      ]
    },
    {
      "cell_type": "code",
      "execution_count": 35,
      "metadata": {
        "id": "AYvZNS-_Qqa-",
        "outputId": "0f178d51-1a30-4f56-e654-2d71b19d8fbd",
        "colab": {
          "base_uri": "https://localhost:8080/"
        }
      },
      "outputs": [
        {
          "output_type": "stream",
          "name": "stdout",
          "text": [
            "(76788, 8)\n",
            "(76788,)\n"
          ]
        }
      ],
      "source": [
        "print(x_res.shape)\n",
        "print(y_res.shape)\n",
        "\n",
        "x_train,x_test,y_train,y_test = train_test_split(x_res,y_res ,test_size=0.3,random_state=42)\n"
      ]
    },
    {
      "cell_type": "code",
      "execution_count": 36,
      "metadata": {
        "id": "U1Kd81weDQzC"
      },
      "outputs": [],
      "source": [
        "#normalization\n",
        "sc = StandardScaler()\n",
        "sc.fit(x_train)\n",
        "x_train = sc.transform(x_train)\n",
        "x_test = sc.transform(x_test)"
      ]
    },
    {
      "cell_type": "code",
      "execution_count": 37,
      "metadata": {
        "id": "VPR_JB-2DTB4",
        "colab": {
          "base_uri": "https://localhost:8080/"
        },
        "outputId": "ac939d42-88b4-4a3e-863d-970cbcb8a367"
      },
      "outputs": [
        {
          "output_type": "execute_result",
          "data": {
            "text/plain": [
              "array([1., 1., 0., ..., 0., 0., 1.])"
            ]
          },
          "metadata": {},
          "execution_count": 37
        }
      ],
      "source": [
        "#model creation\n",
        "rc = RandomForestClassifier()\n",
        "rc.fit(x_train,y_train)\n",
        "y_pred = rc.predict(x_test)\n",
        "y_pred"
      ]
    },
    {
      "cell_type": "code",
      "source": [],
      "metadata": {
        "id": "r4CSqJeqsNJF"
      },
      "execution_count": 37,
      "outputs": []
    },
    {
      "cell_type": "code",
      "execution_count": 38,
      "metadata": {
        "id": "L9_ICljvA5YE",
        "colab": {
          "base_uri": "https://localhost:8080/"
        },
        "outputId": "70454739-1069-4a66-92b1-cb1670d5d93a"
      },
      "outputs": [
        {
          "output_type": "stream",
          "name": "stdout",
          "text": [
            "0.9971784520553891\n",
            "[[11511    64]\n",
            " [    1 11461]]\n",
            "              precision    recall  f1-score   support\n",
            "\n",
            "         0.0       1.00      0.99      1.00     11575\n",
            "         1.0       0.99      1.00      1.00     11462\n",
            "\n",
            "    accuracy                           1.00     23037\n",
            "   macro avg       1.00      1.00      1.00     23037\n",
            "weighted avg       1.00      1.00      1.00     23037\n",
            "\n"
          ]
        }
      ],
      "source": [
        "\n",
        "print(accuracy_score(y_test,y_pred))\n",
        "print(confusion_matrix(y_test,y_pred))\n",
        "print(classification_report(y_test,y_pred))"
      ]
    },
    {
      "cell_type": "code",
      "source": [
        "\"\"\"\n",
        "  Question 2 :Describe your fraud detection model in elaboration.\n",
        "  Answer :    The fraud detection model uses machine learning algorithm like Random Forest  trained on features such as transaction type, amount, balance changes, and flagged transactions.\n",
        "   It handles class imbalance using technique SMOTETomek and focuses on accuary score ,recall, f1 score toeffectively identify fraud while minimizing false positives.\n",
        "\"\"\""
      ],
      "metadata": {
        "colab": {
          "base_uri": "https://localhost:8080/",
          "height": 72
        },
        "id": "2Lf-8N53xrsf",
        "outputId": "804a095a-72d7-4a66-bcee-a6d2cc78981c"
      },
      "execution_count": 39,
      "outputs": [
        {
          "output_type": "execute_result",
          "data": {
            "text/plain": [
              "'\\n  Question 2 :Describe your fraud detection model in elaboration.\\n  Answer :    The fraud detection model uses machine learning algorithm like Random Forest  trained on features such as transaction type, amount, balance changes, and flagged transactions.\\n   It handles class imbalance using technique SMOTETomek and focuses on accuary score and f1 score toeffectively identify fraud while minimizing false positives.\\n'"
            ],
            "application/vnd.google.colaboratory.intrinsic+json": {
              "type": "string"
            }
          },
          "metadata": {},
          "execution_count": 39
        }
      ]
    },
    {
      "cell_type": "code",
      "source": [
        "\"\"\" Question 3 : How did you select variables to be included in the model?\n",
        "    Answer : Since in the given data 'isFraud' is very less , I have used suspicious transaction like\n",
        "    If the transaction amount equals the old balance 'oldbalanceOrg', and the new balance 'newbalanceOrig' goes to zero, it could be a sign of an fraud transction.\n",
        "    If the recipient 'nameDest' has no initial balance 'oldbalanceDest = 0' and the new balance 'newbalanceDest' equals the transferred amount, this could indicate a suspicious transaction.\n",
        "    If amount > 200,000 and isFlaggedFraud = 1, this transaction is flagged as potentially fraudulent or a fraud transcation\n",
        "    By using this I have converted corresponding as 1 and others as 0  in 'isFraud'.\n",
        "    These how I have selected variables to be included in the model\n",
        "\"\"\""
      ],
      "metadata": {
        "colab": {
          "base_uri": "https://localhost:8080/",
          "height": 91
        },
        "id": "RDEZwSDyqRV3",
        "outputId": "3345da7f-2ee4-4cfe-c281-2cd0ac7d76cf"
      },
      "execution_count": 40,
      "outputs": [
        {
          "output_type": "execute_result",
          "data": {
            "text/plain": [
              "\" Question 3 : How did you select variables to be included in the model?\\n    Answer : Since in the given data 'isFraud' is very less , I have used suspicious transaction like \\n    If the transaction amount equals the old balance 'oldbalanceOrg', and the new balance 'newbalanceOrig' goes to zero, it could be a sign of an fraud transction.\\n    If the recipient 'nameDest' has no initial balance 'oldbalanceDest = 0' and the new balance 'newbalanceDest' equals the transferred amount, this could indicate a suspicious transaction.\\n    If amount > 200,000 and isFlaggedFraud = 1, this transaction is flagged as potentially fraudulent or a fraud transcation\\n    By using this I have converted corresponding as 1 and others as 0  in 'isFraud'.\\n    These how I have selected variables to be included in the model\\n\""
            ],
            "application/vnd.google.colaboratory.intrinsic+json": {
              "type": "string"
            }
          },
          "metadata": {},
          "execution_count": 40
        }
      ]
    },
    {
      "cell_type": "code",
      "source": [
        "\"\"\"\n",
        "  Question 4 : Demonstrate the performance of the model by using best set of tools\n",
        "  Answer : I have used accuracy score . Since the data is imbalanced we sure about the accuarcy score.\n",
        "        for that I have used confusion matrix and classification report , from the f1 score in the confusion report we can see that it rounds upto 1 which leads that it is a good model.\n",
        "\"\"\""
      ],
      "metadata": {
        "id": "7olS7pjDJY62",
        "colab": {
          "base_uri": "https://localhost:8080/",
          "height": 54
        },
        "outputId": "8e13d6b7-38cc-4beb-b79d-c9c744d1e19d"
      },
      "execution_count": 41,
      "outputs": [
        {
          "output_type": "execute_result",
          "data": {
            "text/plain": [
              "'\\n  Question 4 : Demonstrate the performance of the model by using best set of tools\\n  Answer : I have used accuracy score . Since the data is imbalanced we sure about the accuarcy score.\\n        for that I have used confusion matrix and classification report , from the f1 score in the confusion report we can see that it rounds upto 1 which leads that it is a good model.\\n'"
            ],
            "application/vnd.google.colaboratory.intrinsic+json": {
              "type": "string"
            }
          },
          "metadata": {},
          "execution_count": 41
        }
      ]
    },
    {
      "cell_type": "code",
      "source": [
        "\"\"\"\n",
        "  Question 5 : What are the key factors that predict fraudulent customer?\n",
        "  Answer :  The key factors that predict fraudulent transactions include the transaction type (especially CASH-OUT and TRANSFER), significant changes in account balances ('oldbalanceOrg' vs 'newbalanceOrig' and 'oldbalanceDest' vs 'newbalanceDest'),\n",
        "        and the transaction amount, particularly when it’s large relative to the initial balance.\n",
        "        Additionally, transactions flagged by the system (isFlaggedFraud) and patterns of account draining are strong indicators of potential fraud.\n",
        "\"\"\""
      ],
      "metadata": {
        "colab": {
          "base_uri": "https://localhost:8080/",
          "height": 72
        },
        "id": "R2Zx0qCltNB_",
        "outputId": "4e0ab0fc-0bc3-46ca-e9ee-be479b4722f2"
      },
      "execution_count": 42,
      "outputs": [
        {
          "output_type": "execute_result",
          "data": {
            "text/plain": [
              "\"\\n  Question 5 : What are the key factors that predict fraudulent customer? \\n  Answer :  The key factors that predict fraudulent transactions include the transaction type (especially CASH-OUT and TRANSFER), significant changes in account balances ('oldbalanceOrg' vs 'newbalanceOrig' and 'oldbalanceDest' vs 'newbalanceDest'), \\n        and the transaction amount, particularly when it’s large relative to the initial balance. \\n        Additionally, transactions flagged by the system (isFlaggedFraud) and patterns of account draining are strong indicators of potential fraud.\\n\""
            ],
            "application/vnd.google.colaboratory.intrinsic+json": {
              "type": "string"
            }
          },
          "metadata": {},
          "execution_count": 42
        }
      ]
    },
    {
      "cell_type": "code",
      "source": [
        "\"\"\"\n",
        "  Question 6 :Do these factors make sense? If yes, How? If not, How not?\n",
        "  Answer : Yes, In the transaction type the  'CASH-OUT' and 'TRANSFER', are more prone to fraud because they involve moving money out of an account.\n",
        "          Significant changes in balances, particularly if an account is drained or nearly emptied after a transaction, can be indicative of fraud.\n",
        "           Large transactions relative to the account balance are suspicious because they may indicate that the account is being emptied.\n",
        "\"\"\""
      ],
      "metadata": {
        "colab": {
          "base_uri": "https://localhost:8080/",
          "height": 72
        },
        "id": "L9rTRUFJuGqL",
        "outputId": "89b5b66b-9f5c-4cfa-ea6e-c0136bb2fc8b"
      },
      "execution_count": 43,
      "outputs": [
        {
          "output_type": "execute_result",
          "data": {
            "text/plain": [
              "\"\\n  Question 6 :Do these factors make sense? If yes, How? If not, How not?\\n  Answer : Yes, In the transaction type the  'CASH-OUT' and 'TRANSFER', are more prone to fraud because they involve moving money out of an account.\\n          Significant changes in balances, particularly if an account is drained or nearly emptied after a transaction, can be indicative of fraud.\\n           Large transactions relative to the account balance are suspicious because they may indicate that the account is being emptied.\\n\""
            ],
            "application/vnd.google.colaboratory.intrinsic+json": {
              "type": "string"
            }
          },
          "metadata": {},
          "execution_count": 43
        }
      ]
    },
    {
      "cell_type": "code",
      "source": [
        "\"\"\"\n",
        "  Question 7 : What kind of prevention should be adopted while company update its infrastructure?\n",
        "  Answer : While updating the companies infrastructure ensure all software, including operating systems and applications, is up-to-date with the latest security patches.\n",
        "           Implement strict access controls and biometrics permissions .Make sure to maintain a backup and recovery plans.\n",
        "\"\"\""
      ],
      "metadata": {
        "colab": {
          "base_uri": "https://localhost:8080/",
          "height": 54
        },
        "id": "Fe1Bt1vQvWrf",
        "outputId": "e41908cf-f157-4f20-de1a-5912fb1facd7"
      },
      "execution_count": 44,
      "outputs": [
        {
          "output_type": "execute_result",
          "data": {
            "text/plain": [
              "'\\n  Question 7 : What kind of prevention should be adopted while company update its infrastructure?\\n  Answer : While updating the companies infrastructure ensure all software, including operating systems and applications, is up-to-date with the latest security patches.\\n           Implement strict access controls and biometrics permissions .Make sure to maintain a backup and recovery plans. \\n'"
            ],
            "application/vnd.google.colaboratory.intrinsic+json": {
              "type": "string"
            }
          },
          "metadata": {},
          "execution_count": 44
        }
      ]
    },
    {
      "cell_type": "code",
      "source": [
        "\"\"\"\n",
        "  Question 8 : Assuming these actions have been implemented, how would you determine if they work?\n",
        "  Answer : By running a checkup on the softwares , makeing sure to get incident response times, and the frequency of security breaches or alerts.\n",
        "          Conduct regular audits and penetration testing to assess the validity of security measures.\n",
        "\"\"\""
      ],
      "metadata": {
        "colab": {
          "base_uri": "https://localhost:8080/",
          "height": 54
        },
        "id": "o4m0YWR2waHD",
        "outputId": "c2f33d95-9110-49fc-eaa9-20f15de99c4e"
      },
      "execution_count": 45,
      "outputs": [
        {
          "output_type": "execute_result",
          "data": {
            "text/plain": [
              "'\\n  Question 8 : Assuming these actions have been implemented, how would you determine if they work?\\n  Answer : By running a checkup on the softwares , makeing sure to get incident response times, and the frequency of security breaches or alerts. \\n          Conduct regular audits and penetration testing to assess the validity of security measures. \\n'"
            ],
            "application/vnd.google.colaboratory.intrinsic+json": {
              "type": "string"
            }
          },
          "metadata": {},
          "execution_count": 45
        }
      ]
    }
  ],
  "metadata": {
    "colab": {
      "provenance": [],
      "authorship_tag": "ABX9TyOSovl7lv2btCYTQrlwWh4m",
      "include_colab_link": true
    },
    "kernelspec": {
      "display_name": "Python 3",
      "name": "python3"
    },
    "language_info": {
      "name": "python"
    }
  },
  "nbformat": 4,
  "nbformat_minor": 0
}